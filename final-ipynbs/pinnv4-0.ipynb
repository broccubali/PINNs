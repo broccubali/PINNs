{
 "cells": [
  {
   "cell_type": "markdown",
   "metadata": {},
   "source": [
    "# **Physics Informed Neural Networks**\n",
    "\n",
    "Physics-Informed Neural Networks (PINNs) are a class of machine learning models that integrate the physical laws governing a system, typically in the form of partial differential equations (PDEs), into the neural network's training process. This approach allows the network to learn solutions to PDEs without needing a large dataset of solution points. Instead, the PINN enforces the PDEs as constraints in the loss function, guiding the network to discover solutions that satisfy the underlying physics. This makes PINNs particularly useful for solving complex problems in fluid dynamics, heat transfer, and other fields where data may be sparse or hard to obtain. \n",
    "\n",
    "\n",
    "## Model\n",
    "\n",
    "This notebook defines a simple PINN model using TensorFlow. The class `PINN` constructs a fully connected neural network with layers specified by `layers_dims`. Each layer uses the `tanh` activation function, except the output layer, which produces a single continuous value. The model is designed to take inputs (such as spatial and time coordinates) and return a prediction, which can be further trained to satisfy the given physical laws expressed as PDEs."
   ]
  },
  {
   "cell_type": "code",
   "execution_count": 2,
   "metadata": {
    "_cell_guid": "1321b850-53a7-499a-9713-0c452e67d125",
    "_uuid": "0cb88dac-e382-406b-a687-6bc20ce7067b",
    "collapsed": false,
    "execution": {
     "iopub.execute_input": "2024-11-21T10:33:19.239225Z",
     "iopub.status.busy": "2024-11-21T10:33:19.238917Z",
     "iopub.status.idle": "2024-11-21T10:33:19.245083Z",
     "shell.execute_reply": "2024-11-21T10:33:19.244176Z",
     "shell.execute_reply.started": "2024-11-21T10:33:19.239197Z"
    },
    "jupyter": {
     "outputs_hidden": false
    },
    "trusted": true
   },
   "outputs": [],
   "source": [
    "import numpy as np\n",
    "import tensorflow as tf\n",
    "from tensorflow.keras import layers, Model\n",
    "import h5py\n",
    "\n",
    "\n",
    "class PINN(Model):\n",
    "    def __init__(self, layers_dims):\n",
    "        super(PINN, self).__init__()\n",
    "        self.network = tf.keras.Sequential()\n",
    "        for dim in layers_dims:\n",
    "            self.network.add(layers.Dense(dim, activation=\"tanh\"))\n",
    "        self.network.add(layers.Dense(1))  \n",
    "\n",
    "    def call(self, inputs):\n",
    "        return self.network(inputs)"
   ]
  },
  {
   "cell_type": "markdown",
   "metadata": {},
   "source": [
    "## Physics informed loss\n",
    "\n",
    "A function to compute the loss for training a Physics-Informed Neural Network (PINN) to solve a partial differential equation (PDE), while enforcing initial conditions, boundary conditions, and the PDE itself.\n",
    "- **Operations** : \n",
    "  1. **Gradient Calculation**: \n",
    "     - Computes the first and second derivatives of the model's output (`u`) with respect to spatial (`x`) and time (`t`) using `tf.GradientTape`.\n",
    "  2. **PDE Residual**: \n",
    "     - Calculates the residual of the PDE, involving terms like `u_t`, `u_x`, and `u_xx`, which should ideally be zero for a valid solution.\n",
    "\n",
    "- **Loss Components**:\n",
    "  - **Initial Condition Loss**: \n",
    "    - Measures the difference between the model's predicted solution at `t=0` and the given `initial_condition`.\n",
    "  - **Periodic Boundary Condition Loss**: \n",
    "    - Enforces periodic boundary conditions by ensuring the solution and its spatial derivative are the same at the boundary points (`x_min` and `x_max`).\n",
    "  - **Residual Loss**: \n",
    "    - Penalizes deviations from the PDE's residual to ensure the model satisfies the physical equation.\n",
    "\n",
    "- **Output**:\n",
    "  - Returns the total loss, which is the sum of the initial condition loss, periodic boundary loss, and residual loss."
   ]
  },
  {
   "cell_type": "code",
   "execution_count": 3,
   "metadata": {
    "execution": {
     "iopub.execute_input": "2024-11-21T10:33:21.052799Z",
     "iopub.status.busy": "2024-11-21T10:33:21.051975Z",
     "iopub.status.idle": "2024-11-21T10:33:21.059262Z",
     "shell.execute_reply": "2024-11-21T10:33:21.058310Z",
     "shell.execute_reply.started": "2024-11-21T10:33:21.052765Z"
    },
    "trusted": true
   },
   "outputs": [],
   "source": [
    "def physics_informed_loss(\n",
    "    model, x, t, initial_condition, boundary_condition, du, epsilon\n",
    "):\n",
    "    with tf.GradientTape(persistent=True) as tape:\n",
    "        tape.watch([x, t])\n",
    "        epsilon_tensor = tf.fill(x.shape,  tf.constant(epsilon, dtype=tf.float32))\n",
    "        u = model(tf.concat([x, t, epsilon_tensor], axis=1))\n",
    "\n",
    "        u_t = tape.gradient(u, t)\n",
    "        u_x = tape.gradient(u, x)\n",
    "        u_xx = tape.gradient(u_x, x)\n",
    "\n",
    "    residual = u_t + u * u_x - epsilon * u_xx\n",
    "\n",
    "    # Initial condition loss\n",
    "    initial_loss = tf.reduce_mean(\n",
    "        tf.square(u[tf.equal(t, tf.reduce_min(t))] - initial_condition)\n",
    "    )\n",
    "\n",
    "    # Periodic boundary condition loss\n",
    "    periodic_loss = tf.reduce_mean(\n",
    "        tf.square(u[tf.equal(x, tf.reduce_min(x))] - u[tf.equal(x, tf.reduce_max(x))])\n",
    "    ) + tf.reduce_mean(\n",
    "        tf.square(\n",
    "            u_x[tf.equal(x, tf.reduce_min(x))] - u_x[tf.equal(x, tf.reduce_max(x))]\n",
    "        )\n",
    "    )\n",
    "\n",
    "    # Residual loss\n",
    "    residual_loss = tf.reduce_mean(tf.square(residual))\n",
    "\n",
    "    return initial_loss + periodic_loss + residual_loss"
   ]
  },
  {
   "cell_type": "markdown",
   "metadata": {},
   "source": [
    "# Training Loop\n",
    "\n",
    "\n",
    "- **Operations**:\n",
    "  1. **Grid Creation**: \n",
    "     - Creates a mesh grid of spatial (`x_grid`) and time (`t_grid`) values, then flattens them into 1D arrays (`x_flat` and `t_flat`).\n",
    "  2. **Optimizer Setup**: \n",
    "     - Uses the Adam optimizer with the specified `learning_rate` to minimize the loss.\n",
    "  3. **Training Loop**: \n",
    "     - For each epoch, computes the loss using `physics_informed_loss` and updates the model parameters by computing gradients and applying them through the optimizer.\n"
   ]
  },
  {
   "cell_type": "code",
   "execution_count": null,
   "metadata": {
    "execution": {
     "iopub.execute_input": "2024-11-21T10:33:22.587201Z",
     "iopub.status.busy": "2024-11-21T10:33:22.586627Z",
     "iopub.status.idle": "2024-11-21T10:33:22.593889Z",
     "shell.execute_reply": "2024-11-21T10:33:22.592970Z",
     "shell.execute_reply.started": "2024-11-21T10:33:22.587151Z"
    },
    "trusted": true
   },
   "outputs": [],
   "source": [
    "def train_model(\n",
    "    model,\n",
    "    x,\n",
    "    t,\n",
    "    initial_condition,\n",
    "    boundary_condition,\n",
    "    du,\n",
    "    epsilon,\n",
    "    epochs,\n",
    "    learning_rate,\n",
    "):\n",
    "    x_grid, t_grid = tf.meshgrid(x[:, 0], t[:, 0])  \n",
    "    x_flat = tf.reshape(x_grid, [-1, 1])  \n",
    "    t_flat = tf.reshape(t_grid, [-1, 1]) \n",
    "\n",
    "    optimizer = tf.keras.optimizers.Adam(learning_rate)\n",
    "\n",
    "    for epoch in range(epochs):\n",
    "        with tf.GradientTape() as tape:\n",
    "            loss = physics_informed_loss(\n",
    "                model,\n",
    "                x_flat,\n",
    "                t_flat,\n",
    "                initial_condition,\n",
    "                boundary_condition,\n",
    "                du,\n",
    "                epsilon,\n",
    "            )\n",
    "        grads = tape.gradient(loss, model.trainable_variables)\n",
    "        optimizer.apply_gradients(zip(grads, model.trainable_variables))\n",
    "\n",
    "        if epoch % 100 == 0:\n",
    "            print(f\"Epoch {epoch}, Loss: {loss.numpy():.6f}\")"
   ]
  },
  {
   "cell_type": "code",
   "execution_count": 5,
   "metadata": {
    "execution": {
     "iopub.execute_input": "2024-11-21T10:33:24.046803Z",
     "iopub.status.busy": "2024-11-21T10:33:24.045992Z",
     "iopub.status.idle": "2024-11-21T10:33:24.051965Z",
     "shell.execute_reply": "2024-11-21T10:33:24.051075Z",
     "shell.execute_reply.started": "2024-11-21T10:33:24.046768Z"
    },
    "trusted": true
   },
   "outputs": [],
   "source": [
    "def load_data(file_name, type):\n",
    "    with h5py.File(file_name, \"r\") as f:\n",
    "        initial_condition = f[f\"0/initial_condition_{type}\"][:]\n",
    "        boundary_condition = f[f\"0/boundary_condition_{type}\"][:]\n",
    "        clean_data = f[\"0/clean\"][:]\n",
    "        du = f[\"0/du\"][()]\n",
    "        epsilon = f[\"0/epsilon\"][()]\n",
    "        u0 = f[\"0/u0\"][()]\n",
    "        x = f[\"coords/x-coordinates\"][:]\n",
    "        t = f[\"coords/t-coordinates\"][:-1]\n",
    "    return (\n",
    "        initial_condition,\n",
    "        boundary_condition,\n",
    "        clean_data,\n",
    "        du,\n",
    "        epsilon,\n",
    "        u0,\n",
    "        x,\n",
    "        t,\n",
    "    )"
   ]
  },
  {
   "cell_type": "code",
   "execution_count": 6,
   "metadata": {
    "execution": {
     "iopub.execute_input": "2024-11-21T10:33:33.091417Z",
     "iopub.status.busy": "2024-11-21T10:33:33.091077Z",
     "iopub.status.idle": "2024-11-21T10:33:33.096295Z",
     "shell.execute_reply": "2024-11-21T10:33:33.095376Z",
     "shell.execute_reply.started": "2024-11-21T10:33:33.091386Z"
    },
    "trusted": true
   },
   "outputs": [],
   "source": [
    "def apply_periodic_bc(u, boundary_condition):\n",
    "    \"\"\"\n",
    "    Enforce periodic boundary conditions on the solution.\n",
    "    Args:\n",
    "        u: Solution array at a given time step (tensor).\n",
    "        boundary_condition: Precomputed boundary values (not directly used here).\n",
    "    Returns:\n",
    "        Solution array with periodic boundary applied (same shape as input).\n",
    "    \"\"\"\n",
    "    # Update the first and last values in `u` to match the periodic boundary\n",
    "    u = tf.tensor_scatter_nd_update(\n",
    "        u,\n",
    "        indices=[[0], [-1]],  # Indices to update: first and last points\n",
    "        updates=[u[-1], u[0]],  # Periodic values: match last to first, first to last\n",
    "    )\n",
    "    return u"
   ]
  },
  {
   "cell_type": "code",
   "execution_count": 9,
   "metadata": {
    "execution": {
     "iopub.execute_input": "2024-11-21T10:34:42.237158Z",
     "iopub.status.busy": "2024-11-21T10:34:42.236342Z",
     "iopub.status.idle": "2024-11-21T10:34:42.458955Z",
     "shell.execute_reply": "2024-11-21T10:34:42.458104Z",
     "shell.execute_reply.started": "2024-11-21T10:34:42.237124Z"
    },
    "trusted": true
   },
   "outputs": [],
   "source": [
    "# Load the data\n",
    "file_name = (\n",
    "    \"/kaggle/input/burgers-noisy/simulation_data.h5\"  # Replace with your data file\n",
    ")\n",
    "initial_condition, boundary_condition, clean_data, du, epsilon, u0, x, t = load_data(\n",
    "    file_name, \"noisy\"\n",
    ")\n",
    "\n",
    "x = tf.convert_to_tensor(x, dtype=tf.float32)[:, None]  # x-coordinates as column vector\n",
    "t = tf.convert_to_tensor(t, dtype=tf.float32)[:, None]  # t-coordinates as column vector\n",
    "initial_condition = tf.convert_to_tensor(initial_condition, dtype=tf.float32)\n",
    "boundary_condition = tf.convert_to_tensor(boundary_condition, dtype=tf.float32)\n",
    "\n",
    "layers_dims = [50, 50, 50]\n",
    "epochs = 1000\n",
    "learning_rate = 1e-3\n",
    "\n",
    "model = PINN(layers_dims)"
   ]
  },
  {
   "cell_type": "code",
   "execution_count": 10,
   "metadata": {
    "execution": {
     "iopub.execute_input": "2024-11-21T10:34:48.537701Z",
     "iopub.status.busy": "2024-11-21T10:34:48.537355Z",
     "iopub.status.idle": "2024-11-21T10:36:36.299293Z",
     "shell.execute_reply": "2024-11-21T10:36:36.298567Z",
     "shell.execute_reply.started": "2024-11-21T10:34:48.537669Z"
    },
    "trusted": true
   },
   "outputs": [
    {
     "name": "stdout",
     "output_type": "stream",
     "text": [
      "Epoch 0, Loss: 0.916638\n",
      "Epoch 100, Loss: 0.430698\n",
      "Epoch 200, Loss: 0.264347\n",
      "Epoch 300, Loss: 0.244005\n",
      "Epoch 400, Loss: 0.229778\n",
      "Epoch 500, Loss: 0.220692\n",
      "Epoch 600, Loss: 0.205291\n",
      "Epoch 700, Loss: 0.195912\n",
      "Epoch 800, Loss: 0.187993\n",
      "Epoch 900, Loss: 0.181558\n"
     ]
    }
   ],
   "source": [
    "# Train model\n",
    "train_model(\n",
    "    model,\n",
    "    x,\n",
    "    t,\n",
    "    initial_condition,\n",
    "    boundary_condition,\n",
    "    du,\n",
    "    epsilon,\n",
    "    epochs,\n",
    "    learning_rate,\n",
    ")"
   ]
  },
  {
   "cell_type": "code",
   "execution_count": 11,
   "metadata": {
    "execution": {
     "iopub.execute_input": "2024-11-21T10:36:55.786669Z",
     "iopub.status.busy": "2024-11-21T10:36:55.785788Z",
     "iopub.status.idle": "2024-11-21T10:36:55.791426Z",
     "shell.execute_reply": "2024-11-21T10:36:55.790545Z",
     "shell.execute_reply.started": "2024-11-21T10:36:55.786633Z"
    },
    "trusted": true
   },
   "outputs": [],
   "source": [
    "def apply_periodic_bc(u, boundary_condition):\n",
    "    \"\"\"\n",
    "    Enforce periodic boundary conditions on the solution.\n",
    "    Args:\n",
    "        u: Solution array at a given time step (tensor).\n",
    "        boundary_condition: Precomputed boundary values (not directly used here).\n",
    "    Returns:\n",
    "        Solution array with periodic boundary applied (same shape as input).\n",
    "    \"\"\"\n",
    "    # Update the first and last values in `u` to match the periodic boundary\n",
    "    u = tf.tensor_scatter_nd_update(\n",
    "        u,\n",
    "        indices=[[0], [-1]],  # Indices to update: first and last points\n",
    "        updates=[u[-1], u[0]],  # Periodic values: match last to first, first to last\n",
    "    )\n",
    "    return u"
   ]
  },
  {
   "cell_type": "code",
   "execution_count": 12,
   "metadata": {
    "_cell_guid": "bfc8be1b-65b4-4df6-95ab-c6e43db08d75",
    "_uuid": "e3aa41a2-99d5-493f-b83c-de785d11a76c",
    "collapsed": false,
    "execution": {
     "iopub.execute_input": "2024-11-21T10:36:56.351340Z",
     "iopub.status.busy": "2024-11-21T10:36:56.351021Z",
     "iopub.status.idle": "2024-11-21T10:36:56.358083Z",
     "shell.execute_reply": "2024-11-21T10:36:56.357176Z",
     "shell.execute_reply.started": "2024-11-21T10:36:56.351299Z"
    },
    "jupyter": {
     "outputs_hidden": false
    },
    "trusted": true
   },
   "outputs": [],
   "source": [
    "def predict_solution_iterative(\n",
    "    model, x, initial_condition, boundary_condition, epsilon, n_steps\n",
    "):\n",
    "    \"\"\"\n",
    "    Iteratively predict the solution over time.\n",
    "    Args:\n",
    "        model: Trained PINN model.\n",
    "        x: Spatial coordinates as a tensor.\n",
    "        initial_condition: Initial condition at t=0.\n",
    "        boundary_condition: Boundary conditions (periodic).\n",
    "        epsilon: Diffusion parameter.\n",
    "        n_steps: Number of time steps to predict.\n",
    "    Returns:\n",
    "        Array of predictions at each time step.\n",
    "    \"\"\"\n",
    "    dt = 1 / n_steps  # Assume uniform time step\n",
    "    u = tf.convert_to_tensor(initial_condition, dtype=tf.float32)[:, None]  # Start with IC\n",
    "    all_predictions = [u.numpy().reshape(-1)]\n",
    "    print(u.shape)\n",
    "    for _ in range(n_steps):\n",
    "        # Prepare inputs for prediction\n",
    "        epsilon_tensor = tf.fill(\n",
    "            x.shape, tf.constant(epsilon, dtype=tf.float32)\n",
    "        )  # Constant epsilon\n",
    "        u_input = tf.concat([x, u], axis=1)  # Concatenate x and u\n",
    "        u_input = tf.concat(\n",
    "            [u_input, epsilon_tensor], axis=1\n",
    "        )  # Concatenate epsilon_tensor\n",
    "\n",
    "        # Predict next state\n",
    "        u_next = model(u_input)[:, 0]  # Remove extra dimensions\n",
    "\n",
    "        # Apply periodic boundary condition\n",
    "        u_next = apply_periodic_bc(u_next, boundary_condition)\n",
    "\n",
    "        # Store prediction and update for next step\n",
    "        all_predictions.append(u_next.numpy())\n",
    "        u = u_next[:, None]  # Update for next time step\n",
    "\n",
    "    return np.array(all_predictions)"
   ]
  },
  {
   "cell_type": "code",
   "execution_count": 13,
   "metadata": {
    "execution": {
     "iopub.execute_input": "2024-11-21T10:37:02.571681Z",
     "iopub.status.busy": "2024-11-21T10:37:02.570896Z",
     "iopub.status.idle": "2024-11-21T10:37:03.788327Z",
     "shell.execute_reply": "2024-11-21T10:37:03.787282Z",
     "shell.execute_reply.started": "2024-11-21T10:37:02.571649Z"
    },
    "trusted": true
   },
   "outputs": [
    {
     "name": "stdout",
     "output_type": "stream",
     "text": [
      "(1024, 1)\n",
      "Predicted solution shape: (201, 1024)\n"
     ]
    }
   ],
   "source": [
    "initial_condition, boundary_condition, clean_data, du, epsilon, u0, x, t = load_data(\n",
    "    file_name, \"clean\"\n",
    ")\n",
    "x = tf.convert_to_tensor(x, dtype=tf.float32)[:, None]  # x-coordinates as column vector\n",
    "t = tf.convert_to_tensor(t, dtype=tf.float32)[:, None]  # t-coordinates as column vector\n",
    "initial_condition = tf.convert_to_tensor(initial_condition, dtype=tf.float32)\n",
    "boundary_condition = tf.convert_to_tensor(boundary_condition, dtype=tf.float32)\n",
    "n_steps = 200\n",
    "predicted_solution = predict_solution_iterative(\n",
    "    model,\n",
    "    x=x,\n",
    "    initial_condition=initial_condition,\n",
    "    boundary_condition=boundary_condition,\n",
    "    epsilon=epsilon,\n",
    "    n_steps=n_steps,\n",
    ")\n",
    "\n",
    "print(\"Predicted solution shape:\", predicted_solution.shape)"
   ]
  },
  {
   "cell_type": "code",
   "execution_count": 14,
   "metadata": {
    "_cell_guid": "cc034f19-6d99-4a0a-a8cd-a2a8ae4d2235",
    "_uuid": "e55ac594-e743-4f0a-ad60-018012cd0eeb",
    "collapsed": false,
    "execution": {
     "iopub.execute_input": "2024-11-21T10:37:06.962240Z",
     "iopub.status.busy": "2024-11-21T10:37:06.961645Z",
     "iopub.status.idle": "2024-11-21T10:37:19.289632Z",
     "shell.execute_reply": "2024-11-21T10:37:19.288679Z",
     "shell.execute_reply.started": "2024-11-21T10:37:06.962208Z"
    },
    "jupyter": {
     "outputs_hidden": false
    },
    "trusted": true
   },
   "outputs": [
    {
     "name": "stderr",
     "output_type": "stream",
     "text": [
      "100%|██████████| 201/201 [00:00<00:00, 336.12it/s]\n"
     ]
    },
    {
     "data": {
      "image/png": "[encoded data removed]",
      "text/plain": [
       "<Figure size 640x480 with 1 Axes>"
      ]
     },
     "metadata": {},
     "output_type": "display_data"
    }
   ],
   "source": [
    "import matplotlib.pyplot as plt\n",
    "import numpy as np\n",
    "from matplotlib import animation\n",
    "from tqdm import tqdm\n",
    "\n",
    "\n",
    "def visualize_burgers(xcrd, data):\n",
    "    \"\"\"\n",
    "    This function animates the Burgers equation\n",
    "\n",
    "    Args:\n",
    "    path : path to the desired file\n",
    "    param: PDE parameter of the data shard to be visualized\n",
    "    \"\"\"\n",
    "    fig, ax = plt.subplots()\n",
    "    ims = []\n",
    "\n",
    "    for i in tqdm(range(data.shape[0])):\n",
    "        if i == 0:\n",
    "            im = ax.plot(xcrd, data[i].squeeze(), animated=True, color=\"blue\")\n",
    "        else:\n",
    "            im = ax.plot(\n",
    "                xcrd, data[i].squeeze(), animated=True, color=\"blue\"\n",
    "            ) \n",
    "        ims.append([im[0]])\n",
    "\n",
    "    ani = animation.ArtistAnimation(fig, ims, interval=50, blit=True, repeat_delay=1000)\n",
    "\n",
    "    writer = animation.PillowWriter(fps=15, bitrate=1800)\n",
    "    ani.save(\"Combo.gif\", writer=writer)\n",
    "    plt.close(fig)\n",
    "    \n",
    "visualize_burgers(x, predicted_solution)"
   ]
  },
  {
   "cell_type": "code",
   "execution_count": 15,
   "metadata": {
    "execution": {
     "iopub.execute_input": "2024-11-21T10:39:51.696890Z",
     "iopub.status.busy": "2024-11-21T10:39:51.696084Z",
     "iopub.status.idle": "2024-11-21T10:39:51.738626Z",
     "shell.execute_reply": "2024-11-21T10:39:51.737929Z",
     "shell.execute_reply.started": "2024-11-21T10:39:51.696855Z"
    },
    "trusted": true
   },
   "outputs": [],
   "source": [
    "# Load the data\n",
    "file_name = (\n",
    "    \"/kaggle/input/burgers-noisy/simulation_data.h5\"  \n",
    ")\n",
    "initial_condition, boundary_condition, clean_data, du, epsilon, u0, x, t = load_data(\n",
    "    file_name, \"clean\"\n",
    ")\n",
    "\n",
    "x = tf.convert_to_tensor(x, dtype=tf.float32)[:, None] \n",
    "t = tf.convert_to_tensor(t, dtype=tf.float32)[:, None]  \n",
    "initial_condition = tf.convert_to_tensor(initial_condition, dtype=tf.float32)\n",
    "boundary_condition = tf.convert_to_tensor(boundary_condition, dtype=tf.float32)\n",
    "\n",
    "layers_dims = [50, 50, 50]\n",
    "epochs = 1000\n",
    "learning_rate = 1e-3\n",
    "\n",
    "model = PINN(layers_dims)"
   ]
  },
  {
   "cell_type": "code",
   "execution_count": 16,
   "metadata": {
    "execution": {
     "iopub.execute_input": "2024-11-21T10:39:57.076124Z",
     "iopub.status.busy": "2024-11-21T10:39:57.075791Z",
     "iopub.status.idle": "2024-11-21T10:41:43.360423Z",
     "shell.execute_reply": "2024-11-21T10:41:43.359712Z",
     "shell.execute_reply.started": "2024-11-21T10:39:57.076093Z"
    },
    "trusted": true
   },
   "outputs": [
    {
     "name": "stdout",
     "output_type": "stream",
     "text": [
      "Epoch 0, Loss: 1.849207\n",
      "Epoch 100, Loss: 0.479362\n",
      "Epoch 200, Loss: 0.450271\n",
      "Epoch 300, Loss: 0.383433\n",
      "Epoch 400, Loss: 0.171448\n",
      "Epoch 500, Loss: 0.165174\n",
      "Epoch 600, Loss: 0.157233\n",
      "Epoch 700, Loss: 0.143543\n",
      "Epoch 800, Loss: 0.129626\n",
      "Epoch 900, Loss: 0.116667\n"
     ]
    }
   ],
   "source": [
    "# Train model\n",
    "train_model(\n",
    "    model,\n",
    "    x,\n",
    "    t,\n",
    "    initial_condition,\n",
    "    boundary_condition,\n",
    "    du,\n",
    "    epsilon,\n",
    "    epochs,\n",
    "    learning_rate,\n",
    ")"
   ]
  },
  {
   "cell_type": "code",
   "execution_count": 17,
   "metadata": {
    "execution": {
     "iopub.execute_input": "2024-11-21T10:43:20.501471Z",
     "iopub.status.busy": "2024-11-21T10:43:20.500757Z",
     "iopub.status.idle": "2024-11-21T10:43:21.664367Z",
     "shell.execute_reply": "2024-11-21T10:43:21.663498Z",
     "shell.execute_reply.started": "2024-11-21T10:43:20.501439Z"
    },
    "trusted": true
   },
   "outputs": [
    {
     "name": "stdout",
     "output_type": "stream",
     "text": [
      "(1024, 1)\n",
      "Predicted solution shape: (201, 1024)\n"
     ]
    }
   ],
   "source": [
    "initial_condition, boundary_condition, clean_data, du, epsilon, u0, x, t = load_data(\n",
    "    file_name, \"clean\"\n",
    ")\n",
    "x = tf.convert_to_tensor(x, dtype=tf.float32)[:, None]  \n",
    "t = tf.convert_to_tensor(t, dtype=tf.float32)[:, None]  \n",
    "initial_condition = tf.convert_to_tensor(initial_condition, dtype=tf.float32)\n",
    "boundary_condition = tf.convert_to_tensor(boundary_condition, dtype=tf.float32)\n",
    "n_steps = 200\n",
    "predicted_solution = predict_solution_iterative(\n",
    "    model,\n",
    "    x=x,\n",
    "    initial_condition=initial_condition,\n",
    "    boundary_condition=boundary_condition,\n",
    "    epsilon=epsilon,\n",
    "    n_steps=n_steps,\n",
    ")\n",
    "\n",
    "print(\"Predicted solution shape:\", predicted_solution.shape)"
   ]
  },
  {
   "cell_type": "code",
   "execution_count": 18,
   "metadata": {
    "execution": {
     "iopub.execute_input": "2024-11-21T10:43:30.977495Z",
     "iopub.status.busy": "2024-11-21T10:43:30.976877Z",
     "iopub.status.idle": "2024-11-21T10:43:43.113083Z",
     "shell.execute_reply": "2024-11-21T10:43:43.112040Z",
     "shell.execute_reply.started": "2024-11-21T10:43:30.977459Z"
    },
    "trusted": true
   },
   "outputs": [
    {
     "name": "stderr",
     "output_type": "stream",
     "text": [
      "100%|██████████| 201/201 [00:00<00:00, 315.01it/s]\n"
     ]
    },
    {
     "data": {
      "image/png": "[encoded data removed]",
      "text/plain": [
       "<Figure size 640x480 with 1 Axes>"
      ]
     },
     "metadata": {},
     "output_type": "display_data"
    }
   ],
   "source": [
    "visualize_burgers(x, predicted_solution)"
   ]
  },
  {
   "cell_type": "code",
   "execution_count": null,
   "metadata": {
    "trusted": true
   },
   "outputs": [],
   "source": []
  }
 ],
 "metadata": {
  "kaggle": {
   "accelerator": "nvidiaTeslaT4",
   "dataSources": [
    {
     "datasetId": 6074846,
     "sourceId": 9943646,
     "sourceType": "datasetVersion"
    }
   ],
   "dockerImageVersionId": 30787,
   "isGpuEnabled": true,
   "isInternetEnabled": true,
   "language": "python",
   "sourceType": "notebook"
  },
  "kernelspec": {
   "display_name": "Python 3",
   "language": "python",
   "name": "python3"
  },
  "language_info": {
   "codemirror_mode": {
    "name": "ipython",
    "version": 3
   },
   "file_extension": ".py",
   "mimetype": "text/x-python",
   "name": "python",
   "nbconvert_exporter": "python",
   "pygments_lexer": "ipython3",
   "version": "3.10.14"
  }
 },
 "nbformat": 4,
 "nbformat_minor": 4
}
