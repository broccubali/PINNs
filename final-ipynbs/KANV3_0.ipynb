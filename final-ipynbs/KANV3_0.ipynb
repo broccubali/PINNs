{
  "metadata": {
    "kernelspec": {
      "language": "python",
      "display_name": "Python 3",
      "name": "python3"
    },
    "language_info": {
      "name": "python",
      "version": "3.10.14",
      "mimetype": "text/x-python",
      "codemirror_mode": {
        "name": "ipython",
        "version": 3
      },
      "pygments_lexer": "ipython3",
      "nbconvert_exporter": "python",
      "file_extension": ".py"
    },
    "kaggle": {
      "accelerator": "nvidiaTeslaT4",
      "dataSources": [
        {
          "sourceId": 9943646,
          "sourceType": "datasetVersion",
          "datasetId": 6074846
        }
      ],
      "dockerImageVersionId": 30787,
      "isInternetEnabled": true,
      "language": "python",
      "sourceType": "notebook",
      "isGpuEnabled": true
    },
    "colab": {
      "name": "KANV3.0",
      "provenance": []
    }
  },
  "nbformat_minor": 0,
  "nbformat": 4,
  "cells": [
    {
      "source": [
        "# IMPORTANT: RUN THIS CELL IN ORDER TO IMPORT YOUR KAGGLE DATA SOURCES,\n",
        "# THEN FEEL FREE TO DELETE THIS CELL.\n",
        "# NOTE: THIS NOTEBOOK ENVIRONMENT DIFFERS FROM KAGGLE'S PYTHON\n",
        "# ENVIRONMENT SO THERE MAY BE MISSING LIBRARIES USED BY YOUR\n",
        "# NOTEBOOK.\n",
        "import kagglehub\n",
        "shusrith_burgers_noisy_path = kagglehub.dataset_download('shusrith/burgers-noisy')\n",
        "\n",
        "print('Data source import complete.')\n"
      ],
      "metadata": {
        "colab": {
          "base_uri": "https://localhost:8080/"
        },
        "id": "rjVdOfhxgO0I",
        "outputId": "59b38195-f2af-445e-c67a-c6a898e86d58"
      },
      "cell_type": "code",
      "outputs": [
        {
          "output_type": "stream",
          "name": "stdout",
          "text": [
            "Downloading from https://www.kaggle.com/api/v1/datasets/download/shusrith/burgers-noisy?dataset_version_number=2...\n"
          ]
        },
        {
          "output_type": "stream",
          "name": "stderr",
          "text": [
            "100%|██████████| 1.25G/1.25G [00:18<00:00, 71.1MB/s]"
          ]
        },
        {
          "output_type": "stream",
          "name": "stdout",
          "text": [
            "Extracting files...\n"
          ]
        },
        {
          "output_type": "stream",
          "name": "stderr",
          "text": [
            "\n"
          ]
        },
        {
          "output_type": "stream",
          "name": "stdout",
          "text": [
            "Data source import complete.\n"
          ]
        }
      ],
      "execution_count": 1
    },
    {
      "cell_type": "code",
      "source": [
        "!find burgers"
      ],
      "metadata": {
        "colab": {
          "base_uri": "https://localhost:8080/"
        },
        "id": "070lfp-4hUqz",
        "outputId": "69ddf292-4f3b-4b44-a52b-4e68e983b373"
      },
      "execution_count": 10,
      "outputs": [
        {
          "output_type": "stream",
          "name": "stdout",
          "text": [
            "find: ‘burgers’: No such file or directory\n"
          ]
        }
      ]
    },
    {
      "cell_type": "code",
      "source": [
        "shusrith_burgers_noisy_path"
      ],
      "metadata": {
        "colab": {
          "base_uri": "https://localhost:8080/",
          "height": 55
        },
        "id": "rz_ndGANiAkF",
        "outputId": "1f26798f-bf60-4ad2-fdf2-91060f4a34aa"
      },
      "execution_count": 11,
      "outputs": [
        {
          "output_type": "execute_result",
          "data": {
            "text/plain": [
              "'/root/.cache/kagglehub/datasets/shusrith/burgers-noisy/versions/2'"
            ],
            "application/vnd.google.colaboratory.intrinsic+json": {
              "type": "string"
            }
          },
          "metadata": {},
          "execution_count": 11
        }
      ]
    },
    {
      "cell_type": "code",
      "source": [
        "import torch\n",
        "import torch.nn.functional as F\n",
        "import math\n",
        "\n",
        "\n",
        "class KANLinear(torch.nn.Module):\n",
        "    def __init__(\n",
        "        self,\n",
        "        in_features,\n",
        "        out_features,\n",
        "        grid_size=5,\n",
        "        spline_order=3,\n",
        "        scale_noise=0.1,\n",
        "        scale_base=1.0,\n",
        "        scale_spline=1.0,\n",
        "        enable_standalone_scale_spline=True,\n",
        "        base_activation=torch.nn.SiLU,\n",
        "        grid_eps=0.02,\n",
        "        grid_range=[-1, 1],\n",
        "    ):\n",
        "        super(KANLinear, self).__init__()\n",
        "        self.in_features = in_features\n",
        "        self.out_features = out_features\n",
        "        self.grid_size = grid_size\n",
        "        self.spline_order = spline_order\n",
        "\n",
        "        h = (grid_range[1] - grid_range[0]) / grid_size\n",
        "        grid = (\n",
        "            (\n",
        "                torch.arange(-spline_order, grid_size + spline_order + 1) * h\n",
        "                + grid_range[0]\n",
        "            )\n",
        "            .expand(in_features, -1)\n",
        "            .contiguous()\n",
        "        )\n",
        "        self.register_buffer(\"grid\", grid)\n",
        "\n",
        "        self.base_weight = torch.nn.Parameter(torch.Tensor(out_features, in_features))\n",
        "        self.spline_weight = torch.nn.Parameter(\n",
        "            torch.Tensor(out_features, in_features, grid_size + spline_order)\n",
        "        )\n",
        "        if enable_standalone_scale_spline:\n",
        "            self.spline_scaler = torch.nn.Parameter(\n",
        "                torch.Tensor(out_features, in_features)\n",
        "            )\n",
        "\n",
        "        self.scale_noise = scale_noise\n",
        "        self.scale_base = scale_base\n",
        "        self.scale_spline = scale_spline\n",
        "        self.enable_standalone_scale_spline = enable_standalone_scale_spline\n",
        "        self.base_activation = base_activation()\n",
        "        self.grid_eps = grid_eps\n",
        "\n",
        "        self.reset_parameters()\n",
        "\n",
        "    def reset_parameters(self):\n",
        "        torch.nn.init.kaiming_uniform_(\n",
        "            self.base_weight, a=math.sqrt(5) * self.scale_base\n",
        "        )\n",
        "        with torch.no_grad():\n",
        "            noise = (\n",
        "                (\n",
        "                    torch.rand(self.grid_size + 1, self.in_features, self.out_features)\n",
        "                    - 1 / 2\n",
        "                )\n",
        "                * self.scale_noise\n",
        "                / self.grid_size\n",
        "            )\n",
        "            self.spline_weight.data.copy_(\n",
        "                (self.scale_spline if not self.enable_standalone_scale_spline else 1.0)\n",
        "                * self.curve2coeff(\n",
        "                    self.grid.T[self.spline_order : -self.spline_order],\n",
        "                    noise,\n",
        "                )\n",
        "            )\n",
        "            if self.enable_standalone_scale_spline:\n",
        "                # torch.nn.init.constant_(self.spline_scaler, self.scale_spline)\n",
        "                torch.nn.init.kaiming_uniform_(\n",
        "                    self.spline_scaler, a=math.sqrt(5) * self.scale_spline\n",
        "                )\n",
        "\n",
        "    def b_splines(self, x: torch.Tensor):\n",
        "        \"\"\"\n",
        "        Compute the B-spline bases for the given input tensor.\n",
        "\n",
        "        Args:\n",
        "            x (torch.Tensor): Input tensor of shape (batch_size, in_features).\n",
        "\n",
        "        Returns:\n",
        "            torch.Tensor: B-spline bases tensor of shape (batch_size, in_features, grid_size + spline_order).\n",
        "        \"\"\"\n",
        "        assert x.dim() == 2 and x.size(1) == self.in_features\n",
        "\n",
        "        grid: torch.Tensor = (\n",
        "            self.grid\n",
        "        )  # (in_features, grid_size + 2 * spline_order + 1)\n",
        "        x = x.unsqueeze(-1)\n",
        "        bases = ((x >= grid[:, :-1]) & (x < grid[:, 1:])).to(x.dtype)\n",
        "        for k in range(1, self.spline_order + 1):\n",
        "            bases = (\n",
        "                (x - grid[:, : -(k + 1)])\n",
        "                / (grid[:, k:-1] - grid[:, : -(k + 1)])\n",
        "                * bases[:, :, :-1]\n",
        "            ) + (\n",
        "                (grid[:, k + 1 :] - x)\n",
        "                / (grid[:, k + 1 :] - grid[:, 1:(-k)])\n",
        "                * bases[:, :, 1:]\n",
        "            )\n",
        "\n",
        "        assert bases.size() == (\n",
        "            x.size(0),\n",
        "            self.in_features,\n",
        "            self.grid_size + self.spline_order,\n",
        "        )\n",
        "        return bases.contiguous()\n",
        "\n",
        "    def curve2coeff(self, x: torch.Tensor, y: torch.Tensor):\n",
        "        \"\"\"\n",
        "        Compute the coefficients of the curve that interpolates the given points.\n",
        "\n",
        "        Args:\n",
        "            x (torch.Tensor): Input tensor of shape (batch_size, in_features).\n",
        "            y (torch.Tensor): Output tensor of shape (batch_size, in_features, out_features).\n",
        "\n",
        "        Returns:\n",
        "            torch.Tensor: Coefficients tensor of shape (out_features, in_features, grid_size + spline_order).\n",
        "        \"\"\"\n",
        "        assert x.dim() == 2 and x.size(1) == self.in_features\n",
        "        assert y.size() == (x.size(0), self.in_features, self.out_features)\n",
        "\n",
        "        A = self.b_splines(x).transpose(\n",
        "            0, 1\n",
        "        )  # (in_features, batch_size, grid_size + spline_order)\n",
        "        B = y.transpose(0, 1)  # (in_features, batch_size, out_features)\n",
        "        solution = torch.linalg.lstsq(\n",
        "            A, B\n",
        "        ).solution  # (in_features, grid_size + spline_order, out_features)\n",
        "        result = solution.permute(\n",
        "            2, 0, 1\n",
        "        )  # (out_features, in_features, grid_size + spline_order)\n",
        "\n",
        "        assert result.size() == (\n",
        "            self.out_features,\n",
        "            self.in_features,\n",
        "            self.grid_size + self.spline_order,\n",
        "        )\n",
        "        return result.contiguous()\n",
        "\n",
        "    @property\n",
        "    def scaled_spline_weight(self):\n",
        "        return self.spline_weight * (\n",
        "            self.spline_scaler.unsqueeze(-1)\n",
        "            if self.enable_standalone_scale_spline\n",
        "            else 1.0\n",
        "        )\n",
        "\n",
        "    def forward(self, x: torch.Tensor):\n",
        "        assert x.size(-1) == self.in_features\n",
        "        original_shape = x.shape\n",
        "        x = x.reshape(-1, self.in_features)\n",
        "\n",
        "        base_output = F.linear(self.base_activation(x), self.base_weight)\n",
        "        spline_output = F.linear(\n",
        "            self.b_splines(x).view(x.size(0), -1),\n",
        "            self.scaled_spline_weight.view(self.out_features, -1),\n",
        "        )\n",
        "        output = base_output + spline_output\n",
        "\n",
        "        output = output.reshape(*original_shape[:-1], self.out_features)\n",
        "        return output\n",
        "\n",
        "    @torch.no_grad()\n",
        "    def update_grid(self, x: torch.Tensor, margin=0.01):\n",
        "        assert x.dim() == 2 and x.size(1) == self.in_features\n",
        "        batch = x.size(0)\n",
        "\n",
        "        splines = self.b_splines(x)  # (batch, in, coeff)\n",
        "        splines = splines.permute(1, 0, 2)  # (in, batch, coeff)\n",
        "        orig_coeff = self.scaled_spline_weight  # (out, in, coeff)\n",
        "        orig_coeff = orig_coeff.permute(1, 2, 0)  # (in, coeff, out)\n",
        "        unreduced_spline_output = torch.bmm(splines, orig_coeff)  # (in, batch, out)\n",
        "        unreduced_spline_output = unreduced_spline_output.permute(\n",
        "            1, 0, 2\n",
        "        )  # (batch, in, out)\n",
        "\n",
        "        # sort each channel individually to collect data distribution\n",
        "        x_sorted = torch.sort(x, dim=0)[0]\n",
        "        grid_adaptive = x_sorted[\n",
        "            torch.linspace(\n",
        "                0, batch - 1, self.grid_size + 1, dtype=torch.int64, device=x.device\n",
        "            )\n",
        "        ]\n",
        "\n",
        "        uniform_step = (x_sorted[-1] - x_sorted[0] + 2 * margin) / self.grid_size\n",
        "        grid_uniform = (\n",
        "            torch.arange(\n",
        "                self.grid_size + 1, dtype=torch.float32, device=x.device\n",
        "            ).unsqueeze(1)\n",
        "            * uniform_step\n",
        "            + x_sorted[0]\n",
        "            - margin\n",
        "        )\n",
        "\n",
        "        grid = self.grid_eps * grid_uniform + (1 - self.grid_eps) * grid_adaptive\n",
        "        grid = torch.concatenate(\n",
        "            [\n",
        "                grid[:1]\n",
        "                - uniform_step\n",
        "                * torch.arange(self.spline_order, 0, -1, device=x.device).unsqueeze(1),\n",
        "                grid,\n",
        "                grid[-1:]\n",
        "                + uniform_step\n",
        "                * torch.arange(1, self.spline_order + 1, device=x.device).unsqueeze(1),\n",
        "            ],\n",
        "            dim=0,\n",
        "        )\n",
        "\n",
        "        self.grid.copy_(grid.T)\n",
        "        self.spline_weight.data.copy_(self.curve2coeff(x, unreduced_spline_output))\n",
        "\n",
        "    def regularization_loss(self, regularize_activation=1.0, regularize_entropy=1.0):\n",
        "        \"\"\"\n",
        "        Compute the regularization loss.\n",
        "\n",
        "        This is a dumb simulation of the original L1 regularization as stated in the\n",
        "        paper, since the original one requires computing absolutes and entropy from the\n",
        "        expanded (batch, in_features, out_features) intermediate tensor, which is hidden\n",
        "        behind the F.linear function if we want an memory efficient implementation.\n",
        "\n",
        "        The L1 regularization is now computed as mean absolute value of the spline\n",
        "        weights. The authors implementation also includes this term in addition to the\n",
        "        sample-based regularization.\n",
        "        \"\"\"\n",
        "        l1_fake = self.spline_weight.abs().mean(-1)\n",
        "        regularization_loss_activation = l1_fake.sum()\n",
        "        p = l1_fake / regularization_loss_activation\n",
        "        regularization_loss_entropy = -torch.sum(p * p.log())\n",
        "        return (\n",
        "            regularize_activation * regularization_loss_activation\n",
        "            + regularize_entropy * regularization_loss_entropy\n",
        "        )"
      ],
      "metadata": {
        "_uuid": "8f2839f25d086af736a60e9eeb907d3b93b6e0e5",
        "_cell_guid": "b1076dfc-b9ad-4769-8c92-a6c4dae69d19",
        "trusted": true,
        "execution": {
          "iopub.status.busy": "2024-11-21T05:25:44.218978Z",
          "iopub.execute_input": "2024-11-21T05:25:44.219422Z",
          "iopub.status.idle": "2024-11-21T05:25:44.246969Z",
          "shell.execute_reply.started": "2024-11-21T05:25:44.21939Z",
          "shell.execute_reply": "2024-11-21T05:25:44.245961Z"
        },
        "id": "H3RdcSeTgO0K"
      },
      "outputs": [],
      "execution_count": 2
    },
    {
      "cell_type": "code",
      "source": [
        "class KAN(torch.nn.Module):\n",
        "    def __init__(\n",
        "        self,\n",
        "        layers_hidden,\n",
        "        grid_size=5,\n",
        "        spline_order=3,\n",
        "        scale_noise=0.1,\n",
        "        scale_base=1.0,\n",
        "        scale_spline=1.0,\n",
        "        base_activation=torch.nn.SiLU,\n",
        "        grid_eps=0.02,\n",
        "        grid_range=[-1, 1],\n",
        "    ):\n",
        "        super(KAN, self).__init__()\n",
        "        self.grid_size = grid_size\n",
        "        self.spline_order = spline_order\n",
        "\n",
        "        self.layers = torch.nn.ModuleList()\n",
        "        for in_features, out_features in zip(layers_hidden, layers_hidden[1:]):\n",
        "            self.layers.append(\n",
        "                KANLinear(\n",
        "                    in_features,\n",
        "                    out_features,\n",
        "                    grid_size=grid_size,\n",
        "                    spline_order=spline_order,\n",
        "                    scale_noise=scale_noise,\n",
        "                    scale_base=scale_base,\n",
        "                    scale_spline=scale_spline,\n",
        "                    base_activation=base_activation,\n",
        "                    grid_eps=grid_eps,\n",
        "                    grid_range=grid_range,\n",
        "                )\n",
        "            )\n",
        "\n",
        "    def forward(self, x: torch.Tensor, update_grid=False):\n",
        "        for layer in self.layers:\n",
        "            if update_grid:\n",
        "                layer.update_grid(x)\n",
        "            x = layer(x)\n",
        "        return x\n",
        "\n",
        "    def regularization_loss(self, regularize_activation=1.0, regularize_entropy=1.0):\n",
        "        return sum(\n",
        "            layer.regularization_loss(regularize_activation, regularize_entropy)\n",
        "            for layer in self.layers\n",
        "        )"
      ],
      "metadata": {
        "trusted": true,
        "id": "i_zDbZ4VgO0N"
      },
      "outputs": [],
      "execution_count": 3
    },
    {
      "cell_type": "code",
      "source": [
        "class KANWithDropout(torch.nn.Module):\n",
        "    def __init__(self, layers_hidden, dropout_prob=0.3):\n",
        "        super(KANWithDropout, self).__init__()\n",
        "        self.layers = nn.ModuleList()\n",
        "        for in_features, out_features in zip(layers_hidden, layers_hidden[1:]):\n",
        "            self.layers.append(\n",
        "                nn.Sequential(\n",
        "                    KANLinear(in_features, out_features),\n",
        "                    nn.BatchNorm1d(out_features),\n",
        "                    nn.SiLU(),\n",
        "                    nn.Dropout(dropout_prob),\n",
        "                )\n",
        "            )\n",
        "\n",
        "    def forward(self, x):\n",
        "        for layer in self.layers:\n",
        "            x = layer(x)\n",
        "        return x"
      ],
      "metadata": {
        "trusted": true,
        "id": "z9VqG0HXgO0P"
      },
      "outputs": [],
      "execution_count": 5
    },
    {
      "cell_type": "code",
      "source": [
        "import h5py\n",
        "import numpy as np\n",
        "with h5py.File(\"/root/.cache/kagglehub/datasets/shusrith/burgers-noisy/versions/2/simulation_data.h5\", \"r\") as f:\n",
        "    a = list(f.keys())\n",
        "    clean = []\n",
        "    noisy = []\n",
        "    for i in a[:-1]:\n",
        "        clean.append(f[i][\"clean\"][:])\n",
        "        noisy.append(f[i][\"noisy\"][:])\n",
        "\n",
        "clean = np.array(clean)\n",
        "noisy = np.array(noisy)"
      ],
      "metadata": {
        "trusted": true,
        "id": "2iqaHGS4gO0R"
      },
      "outputs": [],
      "execution_count": 14
    },
    {
      "cell_type": "code",
      "source": [
        "import torch\n",
        "import torch.nn as nn\n",
        "import torch.optim as optim\n",
        "from torch.utils.data import DataLoader, TensorDataset\n",
        "from tqdm import tqdm\n",
        "import h5py\n",
        "import numpy as np\n",
        "\n",
        "\n",
        "print(\"Noisy data shape:\", noisy.shape)\n",
        "\n",
        "num_samples, height, width = noisy.shape\n",
        "noisy_flattened = noisy.reshape(num_samples, -1)\n",
        "clean_flattened = clean.reshape(num_samples, -1)\n",
        "\n",
        "class CombinedLoss(nn.Module):\n",
        "    def __init__(self, alpha=0.5):\n",
        "        super(CombinedLoss, self).__init__()\n",
        "        self.alpha = alpha\n",
        "        self.mse = nn.MSELoss()\n",
        "        self.l1 = nn.L1Loss()\n",
        "\n",
        "    def forward(self, output, target):\n",
        "        return self.alpha * self.mse(output, target) + (1 - self.alpha) * self.l1(output, target)\n",
        "\n",
        "X_tensor = torch.tensor(noisy_flattened, dtype=torch.float32)\n",
        "Y_tensor = torch.tensor(clean_flattened, dtype=torch.float32)\n",
        "\n",
        "dataset = TensorDataset(X_tensor, Y_tensor)\n",
        "\n",
        "train_size = int(0.8 * len(dataset))\n",
        "test_size = len(dataset) - train_size\n",
        "train_dataset, test_dataset = torch.utils.data.random_split(dataset, [train_size, test_size])\n",
        "\n",
        "trainloader = DataLoader(train_dataset, batch_size=32, shuffle=True)\n",
        "testloader = DataLoader(test_dataset, batch_size=32, shuffle=False)\n",
        "\n",
        "print(\"Trainloader size:\", len(trainloader.dataset))\n",
        "print(\"Testloader size:\", len(testloader.dataset))\n",
        "\n",
        "# Define the model with dropout and batch normalization\n",
        "\n",
        "\n",
        "# Adjust the input dimensions to match the data\n",
        "input_dim = noisy_flattened.shape[1]  # Flatten the input dimensions\n",
        "model = KANWithDropout([input_dim, 512, 256, 128, 64, 128, 256, 512, input_dim])\n",
        "device = torch.device(\"cuda\" if torch.cuda.is_available() else \"cpu\")\n",
        "model.to(device)\n",
        "\n",
        "# Define optimizer\n",
        "optimizer = optim.AdamW(model.parameters(), lr=1e-3, weight_decay=1e-4)\n",
        "\n",
        "# Define ReduceLROnPlateau with patience and min_lr\n",
        "scheduler = optim.lr_scheduler.ReduceLROnPlateau(\n",
        "    optimizer,\n",
        "    mode=\"min\",\n",
        "    factor=0.5,\n",
        "    patience=4,\n",
        "    min_lr=1e-6,\n",
        "    verbose=True,\n",
        ")\n",
        "\n",
        "# Define loss\n",
        "criterion = CombinedLoss()\n",
        "\n",
        "# Training loop\n",
        "for epoch in range(200):\n",
        "    # Train\n",
        "    model.train()\n",
        "    with tqdm(trainloader) as pbar:\n",
        "        for i, (inputs, targets) in enumerate(pbar):\n",
        "            inputs, targets = inputs.to(device), targets.to(device)\n",
        "            optimizer.zero_grad()\n",
        "            output = model(inputs)\n",
        "            loss = criterion(output, targets)\n",
        "            loss.backward()\n",
        "            optimizer.step()\n",
        "            pbar.set_postfix(loss=loss.item(), lr=optimizer.param_groups[0][\"lr\"])\n",
        "\n",
        "    # Validation\n",
        "    model.eval()\n",
        "    val_loss = 0\n",
        "    with torch.no_grad():\n",
        "        for inputs, targets in testloader:\n",
        "            inputs, targets = inputs.to(device), targets.to(device)\n",
        "            output = model(inputs)\n",
        "            val_loss += criterion(output, targets).item()\n",
        "    val_loss /= len(testloader)\n",
        "\n",
        "    # Update learning rate\n",
        "    scheduler.step(val_loss)\n",
        "\n",
        "    print(f\"Epoch {epoch + 1}, Val Loss: {val_loss}\")\n",
        "\n",
        "# Save the model\n",
        "torch.save(model.state_dict(), \"kan_model.pth\")"
      ],
      "metadata": {
        "trusted": true,
        "execution": {
          "iopub.status.busy": "2024-11-21T05:53:00.126655Z",
          "iopub.execute_input": "2024-11-21T05:53:00.127014Z",
          "iopub.status.idle": "2024-11-21T06:03:03.837114Z",
          "shell.execute_reply.started": "2024-11-21T05:53:00.126981Z",
          "shell.execute_reply": "2024-11-21T06:03:03.835985Z"
        },
        "id": "qOQliKVwgO0S",
        "outputId": "1969b37e-3b18-4fc3-b304-48db7b09568f"
      },
      "outputs": [
        {
          "name": "stdout",
          "text": "Noisy data shape: (1000, 201, 1024)\nTrainloader size: 800\nTestloader size: 200\n",
          "output_type": "stream"
        },
        {
          "name": "stderr",
          "text": "100%|██████████| 25/25 [00:02<00:00,  8.49it/s, loss=0.417, lr=0.001]\n",
          "output_type": "stream"
        },
        {
          "name": "stdout",
          "text": "Epoch 1, Val Loss: 0.488453026328768\n",
          "output_type": "stream"
        },
        {
          "name": "stderr",
          "text": "100%|██████████| 25/25 [00:02<00:00,  9.04it/s, loss=0.454, lr=0.001]\n",
          "output_type": "stream"
        },
        {
          "name": "stdout",
          "text": "Epoch 2, Val Loss: 0.44547219361577717\n",
          "output_type": "stream"
        },
        {
          "name": "stderr",
          "text": "100%|██████████| 25/25 [00:02<00:00,  8.90it/s, loss=0.454, lr=0.001]\n",
          "output_type": "stream"
        },
        {
          "name": "stdout",
          "text": "Epoch 3, Val Loss: 0.4440001845359802\n",
          "output_type": "stream"
        },
        {
          "name": "stderr",
          "text": "100%|██████████| 25/25 [00:02<00:00,  8.86it/s, loss=0.387, lr=0.001]\n",
          "output_type": "stream"
        },
        {
          "name": "stdout",
          "text": "Epoch 4, Val Loss: 0.41284662910870146\n",
          "output_type": "stream"
        },
        {
          "name": "stderr",
          "text": "100%|██████████| 25/25 [00:02<00:00,  8.90it/s, loss=0.388, lr=0.001]\n",
          "output_type": "stream"
        },
        {
          "name": "stdout",
          "text": "Epoch 5, Val Loss: 0.39257316504205975\n",
          "output_type": "stream"
        },
        {
          "name": "stderr",
          "text": "100%|██████████| 25/25 [00:02<00:00,  8.98it/s, loss=0.331, lr=0.001]\n",
          "output_type": "stream"
        },
        {
          "name": "stdout",
          "text": "Epoch 6, Val Loss: 0.376366525888443\n",
          "output_type": "stream"
        },
        {
          "name": "stderr",
          "text": "100%|██████████| 25/25 [00:02<00:00,  8.95it/s, loss=0.307, lr=0.001]\n",
          "output_type": "stream"
        },
        {
          "name": "stdout",
          "text": "Epoch 7, Val Loss: 0.3646222310406821\n",
          "output_type": "stream"
        },
        {
          "name": "stderr",
          "text": "100%|██████████| 25/25 [00:02<00:00,  8.86it/s, loss=0.285, lr=0.001]\n",
          "output_type": "stream"
        },
        {
          "name": "stdout",
          "text": "Epoch 8, Val Loss: 0.3671943928514208\n",
          "output_type": "stream"
        },
        {
          "name": "stderr",
          "text": "100%|██████████| 25/25 [00:02<00:00,  8.82it/s, loss=0.291, lr=0.001]\n",
          "output_type": "stream"
        },
        {
          "name": "stdout",
          "text": "Epoch 9, Val Loss: 0.34625517044748577\n",
          "output_type": "stream"
        },
        {
          "name": "stderr",
          "text": "100%|██████████| 25/25 [00:02<00:00,  8.89it/s, loss=0.29, lr=0.001] \n",
          "output_type": "stream"
        },
        {
          "name": "stdout",
          "text": "Epoch 10, Val Loss: 0.34775459340640474\n",
          "output_type": "stream"
        },
        {
          "name": "stderr",
          "text": "100%|██████████| 25/25 [00:02<00:00,  8.90it/s, loss=0.281, lr=0.001]\n",
          "output_type": "stream"
        },
        {
          "name": "stdout",
          "text": "Epoch 11, Val Loss: 0.3486866865839277\n",
          "output_type": "stream"
        },
        {
          "name": "stderr",
          "text": "100%|██████████| 25/25 [00:02<00:00,  8.98it/s, loss=0.247, lr=0.001]\n",
          "output_type": "stream"
        },
        {
          "name": "stdout",
          "text": "Epoch 12, Val Loss: 0.3502537054674966\n",
          "output_type": "stream"
        },
        {
          "name": "stderr",
          "text": "100%|██████████| 25/25 [00:02<00:00,  9.14it/s, loss=0.361, lr=0.001]\n",
          "output_type": "stream"
        },
        {
          "name": "stdout",
          "text": "Epoch 13, Val Loss: 0.3333011908190591\n",
          "output_type": "stream"
        },
        {
          "name": "stderr",
          "text": "100%|██████████| 25/25 [00:02<00:00,  8.88it/s, loss=0.355, lr=0.001]\n",
          "output_type": "stream"
        },
        {
          "name": "stdout",
          "text": "Epoch 14, Val Loss: 0.3430355702127729\n",
          "output_type": "stream"
        },
        {
          "name": "stderr",
          "text": "100%|██████████| 25/25 [00:02<00:00,  8.94it/s, loss=0.294, lr=0.001]\n",
          "output_type": "stream"
        },
        {
          "name": "stdout",
          "text": "Epoch 15, Val Loss: 0.3391421139240265\n",
          "output_type": "stream"
        },
        {
          "name": "stderr",
          "text": "100%|██████████| 25/25 [00:02<00:00,  8.94it/s, loss=0.243, lr=0.001]\n",
          "output_type": "stream"
        },
        {
          "name": "stdout",
          "text": "Epoch 16, Val Loss: 0.323071939604623\n",
          "output_type": "stream"
        },
        {
          "name": "stderr",
          "text": "100%|██████████| 25/25 [00:02<00:00,  8.88it/s, loss=0.295, lr=0.001]\n",
          "output_type": "stream"
        },
        {
          "name": "stdout",
          "text": "Epoch 17, Val Loss: 0.32685812030519756\n",
          "output_type": "stream"
        },
        {
          "name": "stderr",
          "text": "100%|██████████| 25/25 [00:02<00:00,  9.05it/s, loss=0.266, lr=0.001]\n",
          "output_type": "stream"
        },
        {
          "name": "stdout",
          "text": "Epoch 18, Val Loss: 0.3211412046636854\n",
          "output_type": "stream"
        },
        {
          "name": "stderr",
          "text": "100%|██████████| 25/25 [00:02<00:00,  8.88it/s, loss=0.273, lr=0.001]\n",
          "output_type": "stream"
        },
        {
          "name": "stdout",
          "text": "Epoch 19, Val Loss: 0.3144545384815761\n",
          "output_type": "stream"
        },
        {
          "name": "stderr",
          "text": "100%|██████████| 25/25 [00:02<00:00,  8.78it/s, loss=0.313, lr=0.001]\n",
          "output_type": "stream"
        },
        {
          "name": "stdout",
          "text": "Epoch 20, Val Loss: 0.33279308676719666\n",
          "output_type": "stream"
        },
        {
          "name": "stderr",
          "text": "100%|██████████| 25/25 [00:02<00:00,  8.90it/s, loss=0.283, lr=0.001]\n",
          "output_type": "stream"
        },
        {
          "name": "stdout",
          "text": "Epoch 21, Val Loss: 0.3208129278251103\n",
          "output_type": "stream"
        },
        {
          "name": "stderr",
          "text": "100%|██████████| 25/25 [00:02<00:00,  8.97it/s, loss=0.226, lr=0.001]\n",
          "output_type": "stream"
        },
        {
          "name": "stdout",
          "text": "Epoch 22, Val Loss: 0.31973470534597126\n",
          "output_type": "stream"
        },
        {
          "name": "stderr",
          "text": "100%|██████████| 25/25 [00:02<00:00,  9.17it/s, loss=0.257, lr=0.001]\n",
          "output_type": "stream"
        },
        {
          "name": "stdout",
          "text": "Epoch 23, Val Loss: 0.31290134361812044\n",
          "output_type": "stream"
        },
        {
          "name": "stderr",
          "text": "100%|██████████| 25/25 [00:02<00:00,  9.02it/s, loss=0.239, lr=0.001]\n",
          "output_type": "stream"
        },
        {
          "name": "stdout",
          "text": "Epoch 24, Val Loss: 0.31996730821473257\n",
          "output_type": "stream"
        },
        {
          "name": "stderr",
          "text": "100%|██████████| 25/25 [00:02<00:00,  8.89it/s, loss=0.239, lr=0.001]\n",
          "output_type": "stream"
        },
        {
          "name": "stdout",
          "text": "Epoch 25, Val Loss: 0.3018263408115932\n",
          "output_type": "stream"
        },
        {
          "name": "stderr",
          "text": "100%|██████████| 25/25 [00:02<00:00,  8.84it/s, loss=0.313, lr=0.001]\n",
          "output_type": "stream"
        },
        {
          "name": "stdout",
          "text": "Epoch 26, Val Loss: 0.3239653323377882\n",
          "output_type": "stream"
        },
        {
          "name": "stderr",
          "text": "100%|██████████| 25/25 [00:02<00:00,  9.11it/s, loss=0.292, lr=0.001]\n",
          "output_type": "stream"
        },
        {
          "name": "stdout",
          "text": "Epoch 27, Val Loss: 0.3190291907106127\n",
          "output_type": "stream"
        },
        {
          "name": "stderr",
          "text": "100%|██████████| 25/25 [00:02<00:00,  9.00it/s, loss=0.27, lr=0.001] \n",
          "output_type": "stream"
        },
        {
          "name": "stdout",
          "text": "Epoch 28, Val Loss: 0.3173602521419525\n",
          "output_type": "stream"
        },
        {
          "name": "stderr",
          "text": "100%|██████████| 25/25 [00:02<00:00,  9.15it/s, loss=0.233, lr=0.001]\n",
          "output_type": "stream"
        },
        {
          "name": "stdout",
          "text": "Epoch 29, Val Loss: 0.31568193435668945\n",
          "output_type": "stream"
        },
        {
          "name": "stderr",
          "text": "100%|██████████| 25/25 [00:02<00:00,  9.09it/s, loss=0.222, lr=0.001]\n",
          "output_type": "stream"
        },
        {
          "name": "stdout",
          "text": "Epoch 30, Val Loss: 0.30777476515088764\n",
          "output_type": "stream"
        },
        {
          "name": "stderr",
          "text": "100%|██████████| 25/25 [00:02<00:00,  8.88it/s, loss=0.236, lr=0.0005]\n",
          "output_type": "stream"
        },
        {
          "name": "stdout",
          "text": "Epoch 31, Val Loss: 0.301299376147134\n",
          "output_type": "stream"
        },
        {
          "name": "stderr",
          "text": "100%|██████████| 25/25 [00:02<00:00,  8.92it/s, loss=0.255, lr=0.0005]\n",
          "output_type": "stream"
        },
        {
          "name": "stdout",
          "text": "Epoch 32, Val Loss: 0.2929469815322331\n",
          "output_type": "stream"
        },
        {
          "name": "stderr",
          "text": "100%|██████████| 25/25 [00:02<00:00,  9.04it/s, loss=0.258, lr=0.0005]\n",
          "output_type": "stream"
        },
        {
          "name": "stdout",
          "text": "Epoch 33, Val Loss: 0.29877605608531405\n",
          "output_type": "stream"
        },
        {
          "name": "stderr",
          "text": "100%|██████████| 25/25 [00:02<00:00,  8.93it/s, loss=0.341, lr=0.0005]\n",
          "output_type": "stream"
        },
        {
          "name": "stdout",
          "text": "Epoch 34, Val Loss: 0.3191987829548972\n",
          "output_type": "stream"
        },
        {
          "name": "stderr",
          "text": "100%|██████████| 25/25 [00:02<00:00,  9.43it/s, loss=0.222, lr=0.0005]\n",
          "output_type": "stream"
        },
        {
          "name": "stdout",
          "text": "Epoch 35, Val Loss: 0.30171814986637663\n",
          "output_type": "stream"
        },
        {
          "name": "stderr",
          "text": "100%|██████████| 25/25 [00:02<00:00,  8.75it/s, loss=0.227, lr=0.0005]\n",
          "output_type": "stream"
        },
        {
          "name": "stdout",
          "text": "Epoch 36, Val Loss: 0.3134620317390987\n",
          "output_type": "stream"
        },
        {
          "name": "stderr",
          "text": "100%|██████████| 25/25 [00:02<00:00,  9.15it/s, loss=0.271, lr=0.0005]\n",
          "output_type": "stream"
        },
        {
          "name": "stdout",
          "text": "Epoch 37, Val Loss: 0.2969875420842852\n",
          "output_type": "stream"
        },
        {
          "name": "stderr",
          "text": "100%|██████████| 25/25 [00:02<00:00,  8.90it/s, loss=0.246, lr=0.00025]\n",
          "output_type": "stream"
        },
        {
          "name": "stdout",
          "text": "Epoch 38, Val Loss: 0.3075460834162576\n",
          "output_type": "stream"
        },
        {
          "name": "stderr",
          "text": "100%|██████████| 25/25 [00:02<00:00,  8.89it/s, loss=0.225, lr=0.00025]\n",
          "output_type": "stream"
        },
        {
          "name": "stdout",
          "text": "Epoch 39, Val Loss: 0.30323255913598196\n",
          "output_type": "stream"
        },
        {
          "name": "stderr",
          "text": "100%|██████████| 25/25 [00:02<00:00,  8.87it/s, loss=0.269, lr=0.00025]\n",
          "output_type": "stream"
        },
        {
          "name": "stdout",
          "text": "Epoch 40, Val Loss: 0.2932703537600381\n",
          "output_type": "stream"
        },
        {
          "name": "stderr",
          "text": "100%|██████████| 25/25 [00:02<00:00,  9.03it/s, loss=0.23, lr=0.00025] \n",
          "output_type": "stream"
        },
        {
          "name": "stdout",
          "text": "Epoch 41, Val Loss: 0.3006767673151834\n",
          "output_type": "stream"
        },
        {
          "name": "stderr",
          "text": "100%|██████████| 25/25 [00:02<00:00,  8.94it/s, loss=0.258, lr=0.00025]\n",
          "output_type": "stream"
        },
        {
          "name": "stdout",
          "text": "Epoch 42, Val Loss: 0.30995233569826397\n",
          "output_type": "stream"
        },
        {
          "name": "stderr",
          "text": "100%|██████████| 25/25 [00:02<00:00,  9.01it/s, loss=0.244, lr=0.000125]\n",
          "output_type": "stream"
        },
        {
          "name": "stdout",
          "text": "Epoch 43, Val Loss: 0.2704992209162031\n",
          "output_type": "stream"
        },
        {
          "name": "stderr",
          "text": "100%|██████████| 25/25 [00:02<00:00,  8.97it/s, loss=0.247, lr=0.000125]\n",
          "output_type": "stream"
        },
        {
          "name": "stdout",
          "text": "Epoch 44, Val Loss: 0.2807723709515163\n",
          "output_type": "stream"
        },
        {
          "name": "stderr",
          "text": "100%|██████████| 25/25 [00:02<00:00,  9.13it/s, loss=0.201, lr=0.000125]\n",
          "output_type": "stream"
        },
        {
          "name": "stdout",
          "text": "Epoch 45, Val Loss: 0.2592248512165887\n",
          "output_type": "stream"
        },
        {
          "name": "stderr",
          "text": "100%|██████████| 25/25 [00:02<00:00,  8.90it/s, loss=0.249, lr=0.000125]\n",
          "output_type": "stream"
        },
        {
          "name": "stdout",
          "text": "Epoch 46, Val Loss: 0.2840781680175236\n",
          "output_type": "stream"
        },
        {
          "name": "stderr",
          "text": "100%|██████████| 25/25 [00:02<00:00,  8.89it/s, loss=0.327, lr=0.000125]\n",
          "output_type": "stream"
        },
        {
          "name": "stdout",
          "text": "Epoch 47, Val Loss: 0.2893705346754619\n",
          "output_type": "stream"
        },
        {
          "name": "stderr",
          "text": "100%|██████████| 25/25 [00:02<00:00,  8.96it/s, loss=0.213, lr=0.000125]\n",
          "output_type": "stream"
        },
        {
          "name": "stdout",
          "text": "Epoch 48, Val Loss: 0.276109693305833\n",
          "output_type": "stream"
        },
        {
          "name": "stderr",
          "text": "100%|██████████| 25/25 [00:02<00:00,  9.16it/s, loss=0.228, lr=0.000125]\n",
          "output_type": "stream"
        },
        {
          "name": "stdout",
          "text": "Epoch 49, Val Loss: 0.2696436899048941\n",
          "output_type": "stream"
        },
        {
          "name": "stderr",
          "text": "100%|██████████| 25/25 [00:02<00:00,  8.91it/s, loss=0.265, lr=0.000125]\n",
          "output_type": "stream"
        },
        {
          "name": "stdout",
          "text": "Epoch 50, Val Loss: 0.27239317127636503\n",
          "output_type": "stream"
        },
        {
          "name": "stderr",
          "text": "100%|██████████| 25/25 [00:02<00:00,  9.03it/s, loss=0.268, lr=6.25e-5]\n",
          "output_type": "stream"
        },
        {
          "name": "stdout",
          "text": "Epoch 51, Val Loss: 0.26923033382211414\n",
          "output_type": "stream"
        },
        {
          "name": "stderr",
          "text": "100%|██████████| 25/25 [00:02<00:00,  8.88it/s, loss=0.216, lr=6.25e-5]\n",
          "output_type": "stream"
        },
        {
          "name": "stdout",
          "text": "Epoch 52, Val Loss: 0.2737180995089667\n",
          "output_type": "stream"
        },
        {
          "name": "stderr",
          "text": "100%|██████████| 25/25 [00:02<00:00,  9.01it/s, loss=0.23, lr=6.25e-5] \n",
          "output_type": "stream"
        },
        {
          "name": "stdout",
          "text": "Epoch 53, Val Loss: 0.29899764912469046\n",
          "output_type": "stream"
        },
        {
          "name": "stderr",
          "text": "100%|██████████| 25/25 [00:02<00:00,  8.90it/s, loss=0.241, lr=6.25e-5]\n",
          "output_type": "stream"
        },
        {
          "name": "stdout",
          "text": "Epoch 54, Val Loss: 0.2860993764230183\n",
          "output_type": "stream"
        },
        {
          "name": "stderr",
          "text": "100%|██████████| 25/25 [00:02<00:00,  9.08it/s, loss=0.272, lr=6.25e-5]\n",
          "output_type": "stream"
        },
        {
          "name": "stdout",
          "text": "Epoch 55, Val Loss: 0.2794004040105002\n",
          "output_type": "stream"
        },
        {
          "name": "stderr",
          "text": "100%|██████████| 25/25 [00:02<00:00,  9.16it/s, loss=0.223, lr=3.13e-5]\n",
          "output_type": "stream"
        },
        {
          "name": "stdout",
          "text": "Epoch 56, Val Loss: 0.2916343126978193\n",
          "output_type": "stream"
        },
        {
          "name": "stderr",
          "text": "100%|██████████| 25/25 [00:02<00:00,  8.77it/s, loss=0.256, lr=3.13e-5]\n",
          "output_type": "stream"
        },
        {
          "name": "stdout",
          "text": "Epoch 57, Val Loss: 0.28920928495270865\n",
          "output_type": "stream"
        },
        {
          "name": "stderr",
          "text": "100%|██████████| 25/25 [00:02<00:00,  9.00it/s, loss=0.251, lr=3.13e-5]\n",
          "output_type": "stream"
        },
        {
          "name": "stdout",
          "text": "Epoch 58, Val Loss: 0.2668531579630716\n",
          "output_type": "stream"
        },
        {
          "name": "stderr",
          "text": "100%|██████████| 25/25 [00:02<00:00,  9.10it/s, loss=0.229, lr=3.13e-5]\n",
          "output_type": "stream"
        },
        {
          "name": "stdout",
          "text": "Epoch 59, Val Loss: 0.27049119557653156\n",
          "output_type": "stream"
        },
        {
          "name": "stderr",
          "text": "100%|██████████| 25/25 [00:02<00:00,  8.97it/s, loss=0.259, lr=3.13e-5]\n",
          "output_type": "stream"
        },
        {
          "name": "stdout",
          "text": "Epoch 60, Val Loss: 0.25732121084417614\n",
          "output_type": "stream"
        },
        {
          "name": "stderr",
          "text": "100%|██████████| 25/25 [00:02<00:00,  8.87it/s, loss=0.231, lr=3.13e-5]\n",
          "output_type": "stream"
        },
        {
          "name": "stdout",
          "text": "Epoch 61, Val Loss: 0.2638490583215441\n",
          "output_type": "stream"
        },
        {
          "name": "stderr",
          "text": "100%|██████████| 25/25 [00:02<00:00,  8.82it/s, loss=0.289, lr=3.13e-5]\n",
          "output_type": "stream"
        },
        {
          "name": "stdout",
          "text": "Epoch 62, Val Loss: 0.24732117993491037\n",
          "output_type": "stream"
        },
        {
          "name": "stderr",
          "text": "100%|██████████| 25/25 [00:02<00:00,  8.82it/s, loss=0.235, lr=3.13e-5]\n",
          "output_type": "stream"
        },
        {
          "name": "stdout",
          "text": "Epoch 63, Val Loss: 0.23243353835174016\n",
          "output_type": "stream"
        },
        {
          "name": "stderr",
          "text": "100%|██████████| 25/25 [00:02<00:00,  8.90it/s, loss=0.299, lr=3.13e-5]\n",
          "output_type": "stream"
        },
        {
          "name": "stdout",
          "text": "Epoch 64, Val Loss: 0.24718083015510015\n",
          "output_type": "stream"
        },
        {
          "name": "stderr",
          "text": "100%|██████████| 25/25 [00:02<00:00,  9.04it/s, loss=0.208, lr=3.13e-5]\n",
          "output_type": "stream"
        },
        {
          "name": "stdout",
          "text": "Epoch 65, Val Loss: 0.25212704709597994\n",
          "output_type": "stream"
        },
        {
          "name": "stderr",
          "text": "100%|██████████| 25/25 [00:02<00:00,  8.98it/s, loss=0.273, lr=3.13e-5]\n",
          "output_type": "stream"
        },
        {
          "name": "stdout",
          "text": "Epoch 66, Val Loss: 0.2520623079368046\n",
          "output_type": "stream"
        },
        {
          "name": "stderr",
          "text": "100%|██████████| 25/25 [00:02<00:00,  8.84it/s, loss=0.234, lr=3.13e-5]\n",
          "output_type": "stream"
        },
        {
          "name": "stdout",
          "text": "Epoch 67, Val Loss: 0.25374244366373333\n",
          "output_type": "stream"
        },
        {
          "name": "stderr",
          "text": "100%|██████████| 25/25 [00:02<00:00,  9.19it/s, loss=0.208, lr=3.13e-5]\n",
          "output_type": "stream"
        },
        {
          "name": "stdout",
          "text": "Epoch 68, Val Loss: 0.2628207015139716\n",
          "output_type": "stream"
        },
        {
          "name": "stderr",
          "text": "100%|██████████| 25/25 [00:02<00:00,  8.96it/s, loss=0.203, lr=1.56e-5]\n",
          "output_type": "stream"
        },
        {
          "name": "stdout",
          "text": "Epoch 69, Val Loss: 0.2483943509204047\n",
          "output_type": "stream"
        },
        {
          "name": "stderr",
          "text": "100%|██████████| 25/25 [00:02<00:00,  8.99it/s, loss=0.231, lr=1.56e-5]\n",
          "output_type": "stream"
        },
        {
          "name": "stdout",
          "text": "Epoch 70, Val Loss: 0.25904904093061176\n",
          "output_type": "stream"
        },
        {
          "name": "stderr",
          "text": "100%|██████████| 25/25 [00:02<00:00,  9.10it/s, loss=0.186, lr=1.56e-5]\n",
          "output_type": "stream"
        },
        {
          "name": "stdout",
          "text": "Epoch 71, Val Loss: 0.2655960236276899\n",
          "output_type": "stream"
        },
        {
          "name": "stderr",
          "text": "100%|██████████| 25/25 [00:02<00:00,  8.84it/s, loss=0.232, lr=1.56e-5]\n",
          "output_type": "stream"
        },
        {
          "name": "stdout",
          "text": "Epoch 72, Val Loss: 0.2718868979385921\n",
          "output_type": "stream"
        },
        {
          "name": "stderr",
          "text": "100%|██████████| 25/25 [00:02<00:00,  9.13it/s, loss=0.226, lr=1.56e-5]\n",
          "output_type": "stream"
        },
        {
          "name": "stdout",
          "text": "Epoch 73, Val Loss: 0.26617918269974844\n",
          "output_type": "stream"
        },
        {
          "name": "stderr",
          "text": "100%|██████████| 25/25 [00:02<00:00,  8.84it/s, loss=0.217, lr=7.81e-6]\n",
          "output_type": "stream"
        },
        {
          "name": "stdout",
          "text": "Epoch 74, Val Loss: 0.26361540811402456\n",
          "output_type": "stream"
        },
        {
          "name": "stderr",
          "text": "100%|██████████| 25/25 [00:02<00:00,  9.01it/s, loss=0.221, lr=7.81e-6]\n",
          "output_type": "stream"
        },
        {
          "name": "stdout",
          "text": "Epoch 75, Val Loss: 0.2471522114106587\n",
          "output_type": "stream"
        },
        {
          "name": "stderr",
          "text": "100%|██████████| 25/25 [00:02<00:00,  9.13it/s, loss=0.203, lr=7.81e-6]\n",
          "output_type": "stream"
        },
        {
          "name": "stdout",
          "text": "Epoch 76, Val Loss: 0.2527985828263419\n",
          "output_type": "stream"
        },
        {
          "name": "stderr",
          "text": "100%|██████████| 25/25 [00:02<00:00,  9.01it/s, loss=0.216, lr=7.81e-6]\n",
          "output_type": "stream"
        },
        {
          "name": "stdout",
          "text": "Epoch 77, Val Loss: 0.2663914029087339\n",
          "output_type": "stream"
        },
        {
          "name": "stderr",
          "text": "100%|██████████| 25/25 [00:02<00:00,  8.87it/s, loss=0.215, lr=7.81e-6]\n",
          "output_type": "stream"
        },
        {
          "name": "stdout",
          "text": "Epoch 78, Val Loss: 0.2370765677520207\n",
          "output_type": "stream"
        },
        {
          "name": "stderr",
          "text": "100%|██████████| 25/25 [00:02<00:00,  9.08it/s, loss=0.176, lr=3.91e-6]\n",
          "output_type": "stream"
        },
        {
          "name": "stdout",
          "text": "Epoch 79, Val Loss: 0.2540507678474699\n",
          "output_type": "stream"
        },
        {
          "name": "stderr",
          "text": "100%|██████████| 25/25 [00:02<00:00,  8.79it/s, loss=0.198, lr=3.91e-6]\n",
          "output_type": "stream"
        },
        {
          "name": "stdout",
          "text": "Epoch 80, Val Loss: 0.2543929453407015\n",
          "output_type": "stream"
        },
        {
          "name": "stderr",
          "text": "100%|██████████| 25/25 [00:02<00:00,  9.04it/s, loss=0.224, lr=3.91e-6]\n",
          "output_type": "stream"
        },
        {
          "name": "stdout",
          "text": "Epoch 81, Val Loss: 0.2531490219490869\n",
          "output_type": "stream"
        },
        {
          "name": "stderr",
          "text": "100%|██████████| 25/25 [00:02<00:00,  9.29it/s, loss=0.238, lr=3.91e-6]\n",
          "output_type": "stream"
        },
        {
          "name": "stdout",
          "text": "Epoch 82, Val Loss: 0.272067842738969\n",
          "output_type": "stream"
        },
        {
          "name": "stderr",
          "text": "100%|██████████| 25/25 [00:02<00:00,  8.93it/s, loss=0.262, lr=3.91e-6]\n",
          "output_type": "stream"
        },
        {
          "name": "stdout",
          "text": "Epoch 83, Val Loss: 0.2689611656325204\n",
          "output_type": "stream"
        },
        {
          "name": "stderr",
          "text": "100%|██████████| 25/25 [00:02<00:00,  9.02it/s, loss=0.253, lr=1.95e-6]\n",
          "output_type": "stream"
        },
        {
          "name": "stdout",
          "text": "Epoch 84, Val Loss: 0.2529725006648472\n",
          "output_type": "stream"
        },
        {
          "name": "stderr",
          "text": "100%|██████████| 25/25 [00:02<00:00,  9.13it/s, loss=0.231, lr=1.95e-6]\n",
          "output_type": "stream"
        },
        {
          "name": "stdout",
          "text": "Epoch 85, Val Loss: 0.2537472609962736\n",
          "output_type": "stream"
        },
        {
          "name": "stderr",
          "text": "100%|██████████| 25/25 [00:02<00:00,  8.83it/s, loss=0.264, lr=1.95e-6]\n",
          "output_type": "stream"
        },
        {
          "name": "stdout",
          "text": "Epoch 86, Val Loss: 0.24145316439015524\n",
          "output_type": "stream"
        },
        {
          "name": "stderr",
          "text": "100%|██████████| 25/25 [00:02<00:00,  9.14it/s, loss=0.231, lr=1.95e-6]\n",
          "output_type": "stream"
        },
        {
          "name": "stdout",
          "text": "Epoch 87, Val Loss: 0.25554606105600086\n",
          "output_type": "stream"
        },
        {
          "name": "stderr",
          "text": "100%|██████████| 25/25 [00:02<00:00,  9.10it/s, loss=0.225, lr=1.95e-6]\n",
          "output_type": "stream"
        },
        {
          "name": "stdout",
          "text": "Epoch 88, Val Loss: 0.24510969434465682\n",
          "output_type": "stream"
        },
        {
          "name": "stderr",
          "text": "100%|██████████| 25/25 [00:02<00:00,  8.94it/s, loss=0.308, lr=1e-6]\n",
          "output_type": "stream"
        },
        {
          "name": "stdout",
          "text": "Epoch 89, Val Loss: 0.2587395693574633\n",
          "output_type": "stream"
        },
        {
          "name": "stderr",
          "text": "100%|██████████| 25/25 [00:02<00:00,  8.95it/s, loss=0.204, lr=1e-6]\n",
          "output_type": "stream"
        },
        {
          "name": "stdout",
          "text": "Epoch 90, Val Loss: 0.2634050271340779\n",
          "output_type": "stream"
        },
        {
          "name": "stderr",
          "text": "100%|██████████| 25/25 [00:02<00:00,  9.05it/s, loss=0.236, lr=1e-6]\n",
          "output_type": "stream"
        },
        {
          "name": "stdout",
          "text": "Epoch 91, Val Loss: 0.25599626558167593\n",
          "output_type": "stream"
        },
        {
          "name": "stderr",
          "text": "100%|██████████| 25/25 [00:02<00:00,  8.89it/s, loss=0.225, lr=1e-6]\n",
          "output_type": "stream"
        },
        {
          "name": "stdout",
          "text": "Epoch 92, Val Loss: 0.24988446065357753\n",
          "output_type": "stream"
        },
        {
          "name": "stderr",
          "text": "100%|██████████| 25/25 [00:02<00:00,  9.10it/s, loss=0.258, lr=1e-6]\n",
          "output_type": "stream"
        },
        {
          "name": "stdout",
          "text": "Epoch 93, Val Loss: 0.2692349467958723\n",
          "output_type": "stream"
        },
        {
          "name": "stderr",
          "text": "100%|██████████| 25/25 [00:02<00:00,  9.07it/s, loss=0.214, lr=1e-6]\n",
          "output_type": "stream"
        },
        {
          "name": "stdout",
          "text": "Epoch 94, Val Loss: 0.24087038849081313\n",
          "output_type": "stream"
        },
        {
          "name": "stderr",
          "text": "100%|██████████| 25/25 [00:02<00:00,  8.83it/s, loss=0.264, lr=1e-6]\n",
          "output_type": "stream"
        },
        {
          "name": "stdout",
          "text": "Epoch 95, Val Loss: 0.2453645212309701\n",
          "output_type": "stream"
        },
        {
          "name": "stderr",
          "text": "100%|██████████| 25/25 [00:02<00:00,  9.18it/s, loss=0.257, lr=1e-6]\n",
          "output_type": "stream"
        },
        {
          "name": "stdout",
          "text": "Epoch 96, Val Loss: 0.2431205404656274\n",
          "output_type": "stream"
        },
        {
          "name": "stderr",
          "text": "100%|██████████| 25/25 [00:02<00:00,  9.00it/s, loss=0.242, lr=1e-6]\n",
          "output_type": "stream"
        },
        {
          "name": "stdout",
          "text": "Epoch 97, Val Loss: 0.24445995475564683\n",
          "output_type": "stream"
        },
        {
          "name": "stderr",
          "text": "100%|██████████| 25/25 [00:02<00:00,  9.10it/s, loss=0.231, lr=1e-6]\n",
          "output_type": "stream"
        },
        {
          "name": "stdout",
          "text": "Epoch 98, Val Loss: 0.23564734203474863\n",
          "output_type": "stream"
        },
        {
          "name": "stderr",
          "text": "100%|██████████| 25/25 [00:02<00:00,  8.87it/s, loss=0.251, lr=1e-6]\n",
          "output_type": "stream"
        },
        {
          "name": "stdout",
          "text": "Epoch 99, Val Loss: 0.24380585551261902\n",
          "output_type": "stream"
        },
        {
          "name": "stderr",
          "text": "100%|██████████| 25/25 [00:02<00:00,  8.84it/s, loss=0.238, lr=1e-6]\n",
          "output_type": "stream"
        },
        {
          "name": "stdout",
          "text": "Epoch 100, Val Loss: 0.2632708272763661\n",
          "output_type": "stream"
        },
        {
          "name": "stderr",
          "text": "100%|██████████| 25/25 [00:02<00:00,  9.08it/s, loss=0.22, lr=1e-6] \n",
          "output_type": "stream"
        },
        {
          "name": "stdout",
          "text": "Epoch 101, Val Loss: 0.25365697698933737\n",
          "output_type": "stream"
        },
        {
          "name": "stderr",
          "text": "100%|██████████| 25/25 [00:02<00:00,  9.00it/s, loss=0.172, lr=1e-6]\n",
          "output_type": "stream"
        },
        {
          "name": "stdout",
          "text": "Epoch 102, Val Loss: 0.2594458737543651\n",
          "output_type": "stream"
        },
        {
          "name": "stderr",
          "text": "100%|██████████| 25/25 [00:02<00:00,  9.14it/s, loss=0.211, lr=1e-6]\n",
          "output_type": "stream"
        },
        {
          "name": "stdout",
          "text": "Epoch 103, Val Loss: 0.26022096829754965\n",
          "output_type": "stream"
        },
        {
          "name": "stderr",
          "text": "100%|██████████| 25/25 [00:02<00:00,  8.99it/s, loss=0.25, lr=1e-6] \n",
          "output_type": "stream"
        },
        {
          "name": "stdout",
          "text": "Epoch 104, Val Loss: 0.24710712901183537\n",
          "output_type": "stream"
        },
        {
          "name": "stderr",
          "text": "100%|██████████| 25/25 [00:02<00:00,  9.08it/s, loss=0.227, lr=1e-6]\n",
          "output_type": "stream"
        },
        {
          "name": "stdout",
          "text": "Epoch 105, Val Loss: 0.2593744226864406\n",
          "output_type": "stream"
        },
        {
          "name": "stderr",
          "text": "100%|██████████| 25/25 [00:02<00:00,  8.91it/s, loss=0.213, lr=1e-6]\n",
          "output_type": "stream"
        },
        {
          "name": "stdout",
          "text": "Epoch 106, Val Loss: 0.2489133711372103\n",
          "output_type": "stream"
        },
        {
          "name": "stderr",
          "text": "100%|██████████| 25/25 [00:02<00:00,  9.12it/s, loss=0.274, lr=1e-6]\n",
          "output_type": "stream"
        },
        {
          "name": "stdout",
          "text": "Epoch 107, Val Loss: 0.2547912746667862\n",
          "output_type": "stream"
        },
        {
          "name": "stderr",
          "text": "100%|██████████| 25/25 [00:02<00:00,  8.97it/s, loss=0.201, lr=1e-6]\n",
          "output_type": "stream"
        },
        {
          "name": "stdout",
          "text": "Epoch 108, Val Loss: 0.24127229835305894\n",
          "output_type": "stream"
        },
        {
          "name": "stderr",
          "text": "100%|██████████| 25/25 [00:02<00:00,  9.10it/s, loss=0.215, lr=1e-6]\n",
          "output_type": "stream"
        },
        {
          "name": "stdout",
          "text": "Epoch 109, Val Loss: 0.25443475587027414\n",
          "output_type": "stream"
        },
        {
          "name": "stderr",
          "text": "100%|██████████| 25/25 [00:02<00:00,  8.94it/s, loss=0.196, lr=1e-6]\n",
          "output_type": "stream"
        },
        {
          "name": "stdout",
          "text": "Epoch 110, Val Loss: 0.2471313966172082\n",
          "output_type": "stream"
        },
        {
          "name": "stderr",
          "text": "100%|██████████| 25/25 [00:02<00:00,  9.13it/s, loss=0.239, lr=1e-6]\n",
          "output_type": "stream"
        },
        {
          "name": "stdout",
          "text": "Epoch 111, Val Loss: 0.24261416281972611\n",
          "output_type": "stream"
        },
        {
          "name": "stderr",
          "text": "100%|██████████| 25/25 [00:02<00:00,  8.84it/s, loss=0.235, lr=1e-6]\n",
          "output_type": "stream"
        },
        {
          "name": "stdout",
          "text": "Epoch 112, Val Loss: 0.2626642201628004\n",
          "output_type": "stream"
        },
        {
          "name": "stderr",
          "text": "100%|██████████| 25/25 [00:02<00:00,  8.99it/s, loss=0.209, lr=1e-6]\n",
          "output_type": "stream"
        },
        {
          "name": "stdout",
          "text": "Epoch 113, Val Loss: 0.2624576560088566\n",
          "output_type": "stream"
        },
        {
          "name": "stderr",
          "text": "100%|██████████| 25/25 [00:02<00:00,  9.11it/s, loss=0.205, lr=1e-6]\n",
          "output_type": "stream"
        },
        {
          "name": "stdout",
          "text": "Epoch 114, Val Loss: 0.25246127588408335\n",
          "output_type": "stream"
        },
        {
          "name": "stderr",
          "text": "100%|██████████| 25/25 [00:02<00:00,  8.94it/s, loss=0.216, lr=1e-6]\n",
          "output_type": "stream"
        },
        {
          "name": "stdout",
          "text": "Epoch 115, Val Loss: 0.2459014994757516\n",
          "output_type": "stream"
        },
        {
          "name": "stderr",
          "text": "100%|██████████| 25/25 [00:02<00:00,  9.18it/s, loss=0.217, lr=1e-6]\n",
          "output_type": "stream"
        },
        {
          "name": "stdout",
          "text": "Epoch 116, Val Loss: 0.24402578600815364\n",
          "output_type": "stream"
        },
        {
          "name": "stderr",
          "text": "100%|██████████| 25/25 [00:02<00:00,  8.96it/s, loss=0.198, lr=1e-6]\n",
          "output_type": "stream"
        },
        {
          "name": "stdout",
          "text": "Epoch 117, Val Loss: 0.23949351055281504\n",
          "output_type": "stream"
        },
        {
          "name": "stderr",
          "text": "100%|██████████| 25/25 [00:02<00:00,  8.95it/s, loss=0.247, lr=1e-6]\n",
          "output_type": "stream"
        },
        {
          "name": "stdout",
          "text": "Epoch 118, Val Loss: 0.2543647161551884\n",
          "output_type": "stream"
        },
        {
          "name": "stderr",
          "text": "100%|██████████| 25/25 [00:02<00:00,  8.90it/s, loss=0.207, lr=1e-6]\n",
          "output_type": "stream"
        },
        {
          "name": "stdout",
          "text": "Epoch 119, Val Loss: 0.24069845250674657\n",
          "output_type": "stream"
        },
        {
          "name": "stderr",
          "text": "100%|██████████| 25/25 [00:02<00:00,  8.94it/s, loss=0.252, lr=1e-6]\n",
          "output_type": "stream"
        },
        {
          "name": "stdout",
          "text": "Epoch 120, Val Loss: 0.2627566690955843\n",
          "output_type": "stream"
        },
        {
          "name": "stderr",
          "text": "100%|██████████| 25/25 [00:02<00:00,  8.34it/s, loss=0.215, lr=1e-6]\n",
          "output_type": "stream"
        },
        {
          "name": "stdout",
          "text": "Epoch 121, Val Loss: 0.2657916843891144\n",
          "output_type": "stream"
        },
        {
          "name": "stderr",
          "text": "100%|██████████| 25/25 [00:02<00:00,  9.05it/s, loss=0.242, lr=1e-6]\n",
          "output_type": "stream"
        },
        {
          "name": "stdout",
          "text": "Epoch 122, Val Loss: 0.24562527239322662\n",
          "output_type": "stream"
        },
        {
          "name": "stderr",
          "text": "100%|██████████| 25/25 [00:02<00:00,  8.74it/s, loss=0.226, lr=1e-6]\n",
          "output_type": "stream"
        },
        {
          "name": "stdout",
          "text": "Epoch 123, Val Loss: 0.23932700284889766\n",
          "output_type": "stream"
        },
        {
          "name": "stderr",
          "text": "100%|██████████| 25/25 [00:02<00:00,  9.07it/s, loss=0.257, lr=1e-6]\n",
          "output_type": "stream"
        },
        {
          "name": "stdout",
          "text": "Epoch 124, Val Loss: 0.25901974737644196\n",
          "output_type": "stream"
        },
        {
          "name": "stderr",
          "text": "100%|██████████| 25/25 [00:02<00:00,  9.06it/s, loss=0.262, lr=1e-6]\n",
          "output_type": "stream"
        },
        {
          "name": "stdout",
          "text": "Epoch 125, Val Loss: 0.2435660340956279\n",
          "output_type": "stream"
        },
        {
          "name": "stderr",
          "text": "100%|██████████| 25/25 [00:02<00:00,  8.92it/s, loss=0.259, lr=1e-6]\n",
          "output_type": "stream"
        },
        {
          "name": "stdout",
          "text": "Epoch 126, Val Loss: 0.22746687701770238\n",
          "output_type": "stream"
        },
        {
          "name": "stderr",
          "text": "100%|██████████| 25/25 [00:02<00:00,  8.94it/s, loss=0.247, lr=1e-6]\n",
          "output_type": "stream"
        },
        {
          "name": "stdout",
          "text": "Epoch 127, Val Loss: 0.2540204184395926\n",
          "output_type": "stream"
        },
        {
          "name": "stderr",
          "text": "100%|██████████| 25/25 [00:02<00:00,  8.97it/s, loss=0.222, lr=1e-6]\n",
          "output_type": "stream"
        },
        {
          "name": "stdout",
          "text": "Epoch 128, Val Loss: 0.25493742738451275\n",
          "output_type": "stream"
        },
        {
          "name": "stderr",
          "text": "100%|██████████| 25/25 [00:02<00:00,  9.11it/s, loss=0.274, lr=1e-6]\n",
          "output_type": "stream"
        },
        {
          "name": "stdout",
          "text": "Epoch 129, Val Loss: 0.2503335816519601\n",
          "output_type": "stream"
        },
        {
          "name": "stderr",
          "text": "100%|██████████| 25/25 [00:02<00:00,  9.04it/s, loss=0.24, lr=1e-6] \n",
          "output_type": "stream"
        },
        {
          "name": "stdout",
          "text": "Epoch 130, Val Loss: 0.2473383992910385\n",
          "output_type": "stream"
        },
        {
          "name": "stderr",
          "text": "100%|██████████| 25/25 [00:02<00:00,  8.71it/s, loss=0.215, lr=1e-6]\n",
          "output_type": "stream"
        },
        {
          "name": "stdout",
          "text": "Epoch 131, Val Loss: 0.24546435901096889\n",
          "output_type": "stream"
        },
        {
          "name": "stderr",
          "text": "100%|██████████| 25/25 [00:02<00:00,  8.88it/s, loss=0.28, lr=1e-6] \n",
          "output_type": "stream"
        },
        {
          "name": "stdout",
          "text": "Epoch 132, Val Loss: 0.25581555494240354\n",
          "output_type": "stream"
        },
        {
          "name": "stderr",
          "text": "100%|██████████| 25/25 [00:02<00:00,  8.99it/s, loss=0.224, lr=1e-6]\n",
          "output_type": "stream"
        },
        {
          "name": "stdout",
          "text": "Epoch 133, Val Loss: 0.26011974258082254\n",
          "output_type": "stream"
        },
        {
          "name": "stderr",
          "text": "100%|██████████| 25/25 [00:02<00:00,  8.90it/s, loss=0.227, lr=1e-6]\n",
          "output_type": "stream"
        },
        {
          "name": "stdout",
          "text": "Epoch 134, Val Loss: 0.25181607050555094\n",
          "output_type": "stream"
        },
        {
          "name": "stderr",
          "text": "100%|██████████| 25/25 [00:02<00:00,  9.36it/s, loss=0.296, lr=1e-6]\n",
          "output_type": "stream"
        },
        {
          "name": "stdout",
          "text": "Epoch 135, Val Loss: 0.25010598983083454\n",
          "output_type": "stream"
        },
        {
          "name": "stderr",
          "text": "100%|██████████| 25/25 [00:02<00:00,  8.85it/s, loss=0.239, lr=1e-6]\n",
          "output_type": "stream"
        },
        {
          "name": "stdout",
          "text": "Epoch 136, Val Loss: 0.2606135074581419\n",
          "output_type": "stream"
        },
        {
          "name": "stderr",
          "text": "100%|██████████| 25/25 [00:02<00:00,  8.78it/s, loss=0.198, lr=1e-6]\n",
          "output_type": "stream"
        },
        {
          "name": "stdout",
          "text": "Epoch 137, Val Loss: 0.2628032884427479\n",
          "output_type": "stream"
        },
        {
          "name": "stderr",
          "text": "100%|██████████| 25/25 [00:02<00:00,  8.75it/s, loss=0.226, lr=1e-6]\n",
          "output_type": "stream"
        },
        {
          "name": "stdout",
          "text": "Epoch 138, Val Loss: 0.25171454889433725\n",
          "output_type": "stream"
        },
        {
          "name": "stderr",
          "text": "100%|██████████| 25/25 [00:02<00:00,  8.74it/s, loss=0.242, lr=1e-6]\n",
          "output_type": "stream"
        },
        {
          "name": "stdout",
          "text": "Epoch 139, Val Loss: 0.25428324724946705\n",
          "output_type": "stream"
        },
        {
          "name": "stderr",
          "text": "100%|██████████| 25/25 [00:02<00:00,  8.77it/s, loss=0.255, lr=1e-6]\n",
          "output_type": "stream"
        },
        {
          "name": "stdout",
          "text": "Epoch 140, Val Loss: 0.2503524550369808\n",
          "output_type": "stream"
        },
        {
          "name": "stderr",
          "text": "100%|██████████| 25/25 [00:02<00:00,  8.52it/s, loss=0.224, lr=1e-6]\n",
          "output_type": "stream"
        },
        {
          "name": "stdout",
          "text": "Epoch 141, Val Loss: 0.26262070877211435\n",
          "output_type": "stream"
        },
        {
          "name": "stderr",
          "text": "100%|██████████| 25/25 [00:02<00:00,  9.11it/s, loss=0.227, lr=1e-6]\n",
          "output_type": "stream"
        },
        {
          "name": "stdout",
          "text": "Epoch 142, Val Loss: 0.2569603111062731\n",
          "output_type": "stream"
        },
        {
          "name": "stderr",
          "text": "100%|██████████| 25/25 [00:02<00:00,  9.01it/s, loss=0.23, lr=1e-6] \n",
          "output_type": "stream"
        },
        {
          "name": "stdout",
          "text": "Epoch 143, Val Loss: 0.26740315343652454\n",
          "output_type": "stream"
        },
        {
          "name": "stderr",
          "text": "100%|██████████| 25/25 [00:02<00:00,  8.99it/s, loss=0.223, lr=1e-6]\n",
          "output_type": "stream"
        },
        {
          "name": "stdout",
          "text": "Epoch 144, Val Loss: 0.25925867898123606\n",
          "output_type": "stream"
        },
        {
          "name": "stderr",
          "text": "100%|██████████| 25/25 [00:02<00:00,  9.07it/s, loss=0.285, lr=1e-6]\n",
          "output_type": "stream"
        },
        {
          "name": "stdout",
          "text": "Epoch 145, Val Loss: 0.24971249273845128\n",
          "output_type": "stream"
        },
        {
          "name": "stderr",
          "text": "100%|██████████| 25/25 [00:02<00:00,  9.00it/s, loss=0.215, lr=1e-6]\n",
          "output_type": "stream"
        },
        {
          "name": "stdout",
          "text": "Epoch 146, Val Loss: 0.26059788891247343\n",
          "output_type": "stream"
        },
        {
          "name": "stderr",
          "text": "100%|██████████| 25/25 [00:02<00:00,  8.94it/s, loss=0.258, lr=1e-6]\n",
          "output_type": "stream"
        },
        {
          "name": "stdout",
          "text": "Epoch 147, Val Loss: 0.25838418517793926\n",
          "output_type": "stream"
        },
        {
          "name": "stderr",
          "text": "100%|██████████| 25/25 [00:02<00:00,  8.84it/s, loss=0.235, lr=1e-6]\n",
          "output_type": "stream"
        },
        {
          "name": "stdout",
          "text": "Epoch 148, Val Loss: 0.25020734540053774\n",
          "output_type": "stream"
        },
        {
          "name": "stderr",
          "text": "100%|██████████| 25/25 [00:02<00:00,  8.99it/s, loss=0.214, lr=1e-6]\n",
          "output_type": "stream"
        },
        {
          "name": "stdout",
          "text": "Epoch 149, Val Loss: 0.24800327207360948\n",
          "output_type": "stream"
        },
        {
          "name": "stderr",
          "text": "100%|██████████| 25/25 [00:02<00:00,  8.98it/s, loss=0.273, lr=1e-6]\n",
          "output_type": "stream"
        },
        {
          "name": "stdout",
          "text": "Epoch 150, Val Loss: 0.2433607429265976\n",
          "output_type": "stream"
        },
        {
          "name": "stderr",
          "text": "100%|██████████| 25/25 [00:02<00:00,  8.95it/s, loss=0.238, lr=1e-6]\n",
          "output_type": "stream"
        },
        {
          "name": "stdout",
          "text": "Epoch 151, Val Loss: 0.26013660430908203\n",
          "output_type": "stream"
        },
        {
          "name": "stderr",
          "text": "100%|██████████| 25/25 [00:02<00:00,  8.89it/s, loss=0.233, lr=1e-6]\n",
          "output_type": "stream"
        },
        {
          "name": "stdout",
          "text": "Epoch 152, Val Loss: 0.26541678394590107\n",
          "output_type": "stream"
        },
        {
          "name": "stderr",
          "text": "100%|██████████| 25/25 [00:02<00:00,  8.83it/s, loss=0.231, lr=1e-6]\n",
          "output_type": "stream"
        },
        {
          "name": "stdout",
          "text": "Epoch 153, Val Loss: 0.2661486566066742\n",
          "output_type": "stream"
        },
        {
          "name": "stderr",
          "text": "100%|██████████| 25/25 [00:02<00:00,  9.15it/s, loss=0.195, lr=1e-6]\n",
          "output_type": "stream"
        },
        {
          "name": "stdout",
          "text": "Epoch 154, Val Loss: 0.25007836307798115\n",
          "output_type": "stream"
        },
        {
          "name": "stderr",
          "text": "100%|██████████| 25/25 [00:02<00:00,  9.02it/s, loss=0.221, lr=1e-6]\n",
          "output_type": "stream"
        },
        {
          "name": "stdout",
          "text": "Epoch 155, Val Loss: 0.25245051298822674\n",
          "output_type": "stream"
        },
        {
          "name": "stderr",
          "text": "100%|██████████| 25/25 [00:02<00:00,  8.88it/s, loss=0.223, lr=1e-6]\n",
          "output_type": "stream"
        },
        {
          "name": "stdout",
          "text": "Epoch 156, Val Loss: 0.26538378851754324\n",
          "output_type": "stream"
        },
        {
          "name": "stderr",
          "text": "100%|██████████| 25/25 [00:02<00:00,  9.01it/s, loss=0.23, lr=1e-6] \n",
          "output_type": "stream"
        },
        {
          "name": "stdout",
          "text": "Epoch 157, Val Loss: 0.2509449528796332\n",
          "output_type": "stream"
        },
        {
          "name": "stderr",
          "text": "100%|██████████| 25/25 [00:02<00:00,  8.94it/s, loss=0.197, lr=1e-6]\n",
          "output_type": "stream"
        },
        {
          "name": "stdout",
          "text": "Epoch 158, Val Loss: 0.23203623507704055\n",
          "output_type": "stream"
        },
        {
          "name": "stderr",
          "text": "100%|██████████| 25/25 [00:02<00:00,  9.11it/s, loss=0.254, lr=1e-6]\n",
          "output_type": "stream"
        },
        {
          "name": "stdout",
          "text": "Epoch 159, Val Loss: 0.2642382191760199\n",
          "output_type": "stream"
        },
        {
          "name": "stderr",
          "text": "100%|██████████| 25/25 [00:02<00:00,  8.94it/s, loss=0.245, lr=1e-6]\n",
          "output_type": "stream"
        },
        {
          "name": "stdout",
          "text": "Epoch 160, Val Loss: 0.2432611414364406\n",
          "output_type": "stream"
        },
        {
          "name": "stderr",
          "text": "100%|██████████| 25/25 [00:02<00:00,  8.97it/s, loss=0.279, lr=1e-6]\n",
          "output_type": "stream"
        },
        {
          "name": "stdout",
          "text": "Epoch 161, Val Loss: 0.24695879433836257\n",
          "output_type": "stream"
        },
        {
          "name": "stderr",
          "text": "100%|██████████| 25/25 [00:02<00:00,  8.67it/s, loss=0.235, lr=1e-6]\n",
          "output_type": "stream"
        },
        {
          "name": "stdout",
          "text": "Epoch 162, Val Loss: 0.2550536947590964\n",
          "output_type": "stream"
        },
        {
          "name": "stderr",
          "text": "100%|██████████| 25/25 [00:02<00:00,  8.87it/s, loss=0.252, lr=1e-6]\n",
          "output_type": "stream"
        },
        {
          "name": "stdout",
          "text": "Epoch 163, Val Loss: 0.2635075833116259\n",
          "output_type": "stream"
        },
        {
          "name": "stderr",
          "text": "100%|██████████| 25/25 [00:02<00:00,  9.04it/s, loss=0.193, lr=1e-6]\n",
          "output_type": "stream"
        },
        {
          "name": "stdout",
          "text": "Epoch 164, Val Loss: 0.2515053451061249\n",
          "output_type": "stream"
        },
        {
          "name": "stderr",
          "text": "100%|██████████| 25/25 [00:02<00:00,  9.17it/s, loss=0.204, lr=1e-6]\n",
          "output_type": "stream"
        },
        {
          "name": "stdout",
          "text": "Epoch 165, Val Loss: 0.2524920680693218\n",
          "output_type": "stream"
        },
        {
          "name": "stderr",
          "text": "100%|██████████| 25/25 [00:02<00:00,  9.18it/s, loss=0.27, lr=1e-6] \n",
          "output_type": "stream"
        },
        {
          "name": "stdout",
          "text": "Epoch 166, Val Loss: 0.23926932684012822\n",
          "output_type": "stream"
        },
        {
          "name": "stderr",
          "text": "100%|██████████| 25/25 [00:02<00:00,  8.84it/s, loss=0.212, lr=1e-6]\n",
          "output_type": "stream"
        },
        {
          "name": "stdout",
          "text": "Epoch 167, Val Loss: 0.2519113634313856\n",
          "output_type": "stream"
        },
        {
          "name": "stderr",
          "text": "100%|██████████| 25/25 [00:02<00:00,  9.18it/s, loss=0.225, lr=1e-6]\n",
          "output_type": "stream"
        },
        {
          "name": "stdout",
          "text": "Epoch 168, Val Loss: 0.254621867622648\n",
          "output_type": "stream"
        },
        {
          "name": "stderr",
          "text": "100%|██████████| 25/25 [00:02<00:00,  9.05it/s, loss=0.274, lr=1e-6]\n",
          "output_type": "stream"
        },
        {
          "name": "stdout",
          "text": "Epoch 169, Val Loss: 0.2646214621407645\n",
          "output_type": "stream"
        },
        {
          "name": "stderr",
          "text": "100%|██████████| 25/25 [00:02<00:00,  9.09it/s, loss=0.236, lr=1e-6]\n",
          "output_type": "stream"
        },
        {
          "name": "stdout",
          "text": "Epoch 170, Val Loss: 0.23751690770898545\n",
          "output_type": "stream"
        },
        {
          "name": "stderr",
          "text": "100%|██████████| 25/25 [00:02<00:00,  8.98it/s, loss=0.209, lr=1e-6]\n",
          "output_type": "stream"
        },
        {
          "name": "stdout",
          "text": "Epoch 171, Val Loss: 0.2456056284052985\n",
          "output_type": "stream"
        },
        {
          "name": "stderr",
          "text": "100%|██████████| 25/25 [00:02<00:00,  9.02it/s, loss=0.208, lr=1e-6]\n",
          "output_type": "stream"
        },
        {
          "name": "stdout",
          "text": "Epoch 172, Val Loss: 0.25325748537267956\n",
          "output_type": "stream"
        },
        {
          "name": "stderr",
          "text": "100%|██████████| 25/25 [00:02<00:00,  8.74it/s, loss=0.209, lr=1e-6]\n",
          "output_type": "stream"
        },
        {
          "name": "stdout",
          "text": "Epoch 173, Val Loss: 0.25791758724621366\n",
          "output_type": "stream"
        },
        {
          "name": "stderr",
          "text": "100%|██████████| 25/25 [00:02<00:00,  8.60it/s, loss=0.208, lr=1e-6]\n",
          "output_type": "stream"
        },
        {
          "name": "stdout",
          "text": "Epoch 174, Val Loss: 0.2627650116171156\n",
          "output_type": "stream"
        },
        {
          "name": "stderr",
          "text": "100%|██████████| 25/25 [00:02<00:00,  8.96it/s, loss=0.209, lr=1e-6]\n",
          "output_type": "stream"
        },
        {
          "name": "stdout",
          "text": "Epoch 175, Val Loss: 0.26940019002982546\n",
          "output_type": "stream"
        },
        {
          "name": "stderr",
          "text": "100%|██████████| 25/25 [00:02<00:00,  8.93it/s, loss=0.257, lr=1e-6]\n",
          "output_type": "stream"
        },
        {
          "name": "stdout",
          "text": "Epoch 176, Val Loss: 0.250957082424845\n",
          "output_type": "stream"
        },
        {
          "name": "stderr",
          "text": "100%|██████████| 25/25 [00:02<00:00,  9.16it/s, loss=0.202, lr=1e-6]\n",
          "output_type": "stream"
        },
        {
          "name": "stdout",
          "text": "Epoch 177, Val Loss: 0.23560889491013118\n",
          "output_type": "stream"
        },
        {
          "name": "stderr",
          "text": "100%|██████████| 25/25 [00:02<00:00,  9.25it/s, loss=0.234, lr=1e-6]\n",
          "output_type": "stream"
        },
        {
          "name": "stdout",
          "text": "Epoch 178, Val Loss: 0.2570723742246628\n",
          "output_type": "stream"
        },
        {
          "name": "stderr",
          "text": "100%|██████████| 25/25 [00:02<00:00,  9.04it/s, loss=0.237, lr=1e-6]\n",
          "output_type": "stream"
        },
        {
          "name": "stdout",
          "text": "Epoch 179, Val Loss: 0.24178209475108556\n",
          "output_type": "stream"
        },
        {
          "name": "stderr",
          "text": "100%|██████████| 25/25 [00:02<00:00,  8.99it/s, loss=0.261, lr=1e-6]\n",
          "output_type": "stream"
        },
        {
          "name": "stdout",
          "text": "Epoch 180, Val Loss: 0.26017954519816805\n",
          "output_type": "stream"
        },
        {
          "name": "stderr",
          "text": "100%|██████████| 25/25 [00:02<00:00,  8.84it/s, loss=0.263, lr=1e-6]\n",
          "output_type": "stream"
        },
        {
          "name": "stdout",
          "text": "Epoch 181, Val Loss: 0.23517782134669168\n",
          "output_type": "stream"
        },
        {
          "name": "stderr",
          "text": "100%|██████████| 25/25 [00:02<00:00,  9.03it/s, loss=0.237, lr=1e-6]\n",
          "output_type": "stream"
        },
        {
          "name": "stdout",
          "text": "Epoch 182, Val Loss: 0.2664117898259844\n",
          "output_type": "stream"
        },
        {
          "name": "stderr",
          "text": "100%|██████████| 25/25 [00:02<00:00,  8.99it/s, loss=0.265, lr=1e-6]\n",
          "output_type": "stream"
        },
        {
          "name": "stdout",
          "text": "Epoch 183, Val Loss: 0.2456375232764653\n",
          "output_type": "stream"
        },
        {
          "name": "stderr",
          "text": "100%|██████████| 25/25 [00:02<00:00,  8.86it/s, loss=0.235, lr=1e-6]\n",
          "output_type": "stream"
        },
        {
          "name": "stdout",
          "text": "Epoch 184, Val Loss: 0.25639704934188295\n",
          "output_type": "stream"
        },
        {
          "name": "stderr",
          "text": "100%|██████████| 25/25 [00:02<00:00,  8.94it/s, loss=0.193, lr=1e-6]\n",
          "output_type": "stream"
        },
        {
          "name": "stdout",
          "text": "Epoch 185, Val Loss: 0.24338676248277938\n",
          "output_type": "stream"
        },
        {
          "name": "stderr",
          "text": "100%|██████████| 25/25 [00:02<00:00,  8.94it/s, loss=0.402, lr=1e-6]\n",
          "output_type": "stream"
        },
        {
          "name": "stdout",
          "text": "Epoch 186, Val Loss: 0.2449279853275844\n",
          "output_type": "stream"
        },
        {
          "name": "stderr",
          "text": "100%|██████████| 25/25 [00:02<00:00,  9.03it/s, loss=0.239, lr=1e-6]\n",
          "output_type": "stream"
        },
        {
          "name": "stdout",
          "text": "Epoch 187, Val Loss: 0.2296957586492811\n",
          "output_type": "stream"
        },
        {
          "name": "stderr",
          "text": "100%|██████████| 25/25 [00:02<00:00,  8.97it/s, loss=0.198, lr=1e-6]\n",
          "output_type": "stream"
        },
        {
          "name": "stdout",
          "text": "Epoch 188, Val Loss: 0.2444561528308051\n",
          "output_type": "stream"
        },
        {
          "name": "stderr",
          "text": "100%|██████████| 25/25 [00:02<00:00,  8.94it/s, loss=0.199, lr=1e-6]\n",
          "output_type": "stream"
        },
        {
          "name": "stdout",
          "text": "Epoch 189, Val Loss: 0.2439880222082138\n",
          "output_type": "stream"
        },
        {
          "name": "stderr",
          "text": "100%|██████████| 25/25 [00:02<00:00,  8.78it/s, loss=0.2, lr=1e-6]  \n",
          "output_type": "stream"
        },
        {
          "name": "stdout",
          "text": "Epoch 190, Val Loss: 0.22986879731927598\n",
          "output_type": "stream"
        },
        {
          "name": "stderr",
          "text": "100%|██████████| 25/25 [00:02<00:00,  9.02it/s, loss=0.236, lr=1e-6]\n",
          "output_type": "stream"
        },
        {
          "name": "stdout",
          "text": "Epoch 191, Val Loss: 0.26628339290618896\n",
          "output_type": "stream"
        },
        {
          "name": "stderr",
          "text": "100%|██████████| 25/25 [00:02<00:00,  8.98it/s, loss=0.204, lr=1e-6]\n",
          "output_type": "stream"
        },
        {
          "name": "stdout",
          "text": "Epoch 192, Val Loss: 0.2500219962426594\n",
          "output_type": "stream"
        },
        {
          "name": "stderr",
          "text": "100%|██████████| 25/25 [00:02<00:00,  8.98it/s, loss=0.224, lr=1e-6]\n",
          "output_type": "stream"
        },
        {
          "name": "stdout",
          "text": "Epoch 193, Val Loss: 0.2613207591431482\n",
          "output_type": "stream"
        },
        {
          "name": "stderr",
          "text": "100%|██████████| 25/25 [00:02<00:00,  9.02it/s, loss=0.206, lr=1e-6]\n",
          "output_type": "stream"
        },
        {
          "name": "stdout",
          "text": "Epoch 194, Val Loss: 0.2391248643398285\n",
          "output_type": "stream"
        },
        {
          "name": "stderr",
          "text": "100%|██████████| 25/25 [00:02<00:00,  9.05it/s, loss=0.237, lr=1e-6]\n",
          "output_type": "stream"
        },
        {
          "name": "stdout",
          "text": "Epoch 195, Val Loss: 0.2596775165625981\n",
          "output_type": "stream"
        },
        {
          "name": "stderr",
          "text": "100%|██████████| 25/25 [00:02<00:00,  8.75it/s, loss=0.199, lr=1e-6]\n",
          "output_type": "stream"
        },
        {
          "name": "stdout",
          "text": "Epoch 196, Val Loss: 0.24634975833552225\n",
          "output_type": "stream"
        },
        {
          "name": "stderr",
          "text": "100%|██████████| 25/25 [00:02<00:00,  8.78it/s, loss=0.256, lr=1e-6]\n",
          "output_type": "stream"
        },
        {
          "name": "stdout",
          "text": "Epoch 197, Val Loss: 0.2629286582980837\n",
          "output_type": "stream"
        },
        {
          "name": "stderr",
          "text": "100%|██████████| 25/25 [00:02<00:00,  8.84it/s, loss=0.285, lr=1e-6]\n",
          "output_type": "stream"
        },
        {
          "name": "stdout",
          "text": "Epoch 198, Val Loss: 0.25406735709735323\n",
          "output_type": "stream"
        },
        {
          "name": "stderr",
          "text": "100%|██████████| 25/25 [00:02<00:00,  8.97it/s, loss=0.237, lr=1e-6]\n",
          "output_type": "stream"
        },
        {
          "name": "stdout",
          "text": "Epoch 199, Val Loss: 0.2552939099924905\n",
          "output_type": "stream"
        },
        {
          "name": "stderr",
          "text": "100%|██████████| 25/25 [00:02<00:00,  8.97it/s, loss=0.271, lr=1e-6]\n",
          "output_type": "stream"
        },
        {
          "name": "stdout",
          "text": "Epoch 200, Val Loss: 0.25731590390205383\n",
          "output_type": "stream"
        }
      ],
      "execution_count": null
    },
    {
      "cell_type": "code",
      "source": [
        "with  h5py.File(\"/kaggle/input/burgers-noisy/simulation_data.h5\", \"r\") as f:\n",
        "    a = f[\"10\"][\"noisy\"][:]\n",
        "    b = f[\"10\"][\"clean\"][:]\n",
        "    x = f[\"coords\"][\"x-coordinates\"][:]\n",
        "    f.close()\n",
        "a = torch.Tensor(a).to(device)\n",
        "a = a.view(1, -1)\n",
        "a.shape"
      ],
      "metadata": {
        "trusted": true,
        "execution": {
          "iopub.status.busy": "2024-11-21T06:08:38.846466Z",
          "iopub.execute_input": "2024-11-21T06:08:38.847289Z",
          "iopub.status.idle": "2024-11-21T06:08:38.89323Z",
          "shell.execute_reply.started": "2024-11-21T06:08:38.847249Z",
          "shell.execute_reply": "2024-11-21T06:08:38.892379Z"
        },
        "id": "h89BzdhdgO0T",
        "outputId": "7aebd12f-aa27-423d-c567-4150dcf3f667"
      },
      "outputs": [
        {
          "execution_count": 29,
          "output_type": "execute_result",
          "data": {
            "text/plain": "torch.Size([1, 205824])"
          },
          "metadata": {}
        }
      ],
      "execution_count": null
    },
    {
      "cell_type": "code",
      "source": [
        "# Making predictions\n",
        "with torch.no_grad():\n",
        "    u = model(a.to(device)).to(\"cpu\")\n",
        "\n",
        "# Convert the output to numpy array if needed\n",
        "u = u.cpu().numpy().reshape((201, 1024))\n",
        "\n",
        "from __future__ import annotations\n",
        "\n",
        "import argparse\n",
        "from pathlib import Path\n",
        "\n",
        "import matplotlib.pyplot as plt\n",
        "import numpy as np\n",
        "from matplotlib import animation\n",
        "from tqdm import tqdm\n",
        "\n",
        "\n",
        "def visualize_burgers(xcrd, data):\n",
        "    \"\"\"\n",
        "    This function animates the Burgers equation\n",
        "\n",
        "    Args:\n",
        "    path : path to the desired file\n",
        "    param: PDE parameter of the data shard to be visualized\n",
        "    \"\"\"\n",
        "\n",
        "#     xcrd = np.load(\"burgers/data/x_coordinate.npy\")\n",
        "    # print(xcrd.shape)\n",
        "#     data = np.load(path)\n",
        "    # Initialize plot\n",
        "    fig, ax = plt.subplots()\n",
        "\n",
        "    # Store the plot handle at each time step in the 'ims' list\n",
        "    ims = []\n",
        "\n",
        "    for i in tqdm(range(data.shape[0])):\n",
        "        if i == 0:\n",
        "            im = ax.plot(xcrd, data[i].squeeze(), animated=True, color=\"blue\")\n",
        "        else:\n",
        "            im = ax.plot(\n",
        "                xcrd, data[i].squeeze(), animated=True, color=\"blue\"\n",
        "            )  # show an initial one first\n",
        "        ims.append([im[0]])\n",
        "\n",
        "    # Animate the plot\n",
        "    ani = animation.ArtistAnimation(fig, ims, interval=50, blit=True, repeat_delay=1000)\n",
        "\n",
        "    writer = animation.PillowWriter(fps=15, bitrate=1800)\n",
        "    ani.save(\"burgerCombo.gif\", writer=writer)\n",
        "\n",
        "visualize_burgers(x[:], u)"
      ],
      "metadata": {
        "trusted": true,
        "execution": {
          "iopub.status.busy": "2024-11-21T06:08:40.366239Z",
          "iopub.execute_input": "2024-11-21T06:08:40.366942Z",
          "iopub.status.idle": "2024-11-21T06:08:52.142127Z",
          "shell.execute_reply.started": "2024-11-21T06:08:40.366895Z",
          "shell.execute_reply": "2024-11-21T06:08:52.141283Z"
        },
        "id": "l-k-9KYJgO0V",
        "outputId": "a3d339b0-8511-40ac-cdda-029d37f3839a"
      },
      "outputs": [
        {
          "name": "stderr",
          "text": "100%|██████████| 201/201 [00:00<00:00, 2060.75it/s]\n",
          "output_type": "stream"
        },
        {
          "output_type": "display_data",
          "data": {
            "text/plain": "<Figure size 640x480 with 1 Axes>",
            "image/png": "[encoded data removed]"
          },
          "metadata": {}
        }
      ],
      "execution_count": null
    },
    {
      "cell_type": "code",
      "source": [],
      "metadata": {
        "trusted": true,
        "id": "qrBzpylWgO0W"
      },
      "outputs": [],
      "execution_count": null
    }
  ]
}